{
  "cells": [
    {
      "cell_type": "markdown",
      "id": "5d868520-2dec-409b-ad10-44ee13d81ae3",
      "metadata": {
        "id": "5d868520-2dec-409b-ad10-44ee13d81ae3"
      },
      "source": [
        "## A1. Data Wrangling (4 marks)"
      ]
    },
    {
      "cell_type": "markdown",
      "id": "b63d0fef-7a8f-4814-8bb2-000863841301",
      "metadata": {
        "id": "b63d0fef-7a8f-4814-8bb2-000863841301"
      },
      "source": [
        "1. Read the ‘Student_List_A2.csv’ file and list the column names."
      ]
    },
    {
      "cell_type": "code",
      "execution_count": null,
      "id": "699950a9-80ca-48f4-bff4-4cbc9fdc79f5",
      "metadata": {
        "id": "699950a9-80ca-48f4-bff4-4cbc9fdc79f5"
      },
      "outputs": [],
      "source": [
        "import pandas as pd"
      ]
    },
    {
      "cell_type": "code",
      "execution_count": null,
      "id": "af5c33ec-7694-4771-a0ef-06f0938e77ec",
      "metadata": {
        "id": "af5c33ec-7694-4771-a0ef-06f0938e77ec",
        "outputId": "e259bf42-fce1-4520-bd40-d83280e2c85d"
      },
      "outputs": [
        {
          "data": {
            "text/plain": [
              "Index(['StudentID', 'Age', 'StudyTimeWeekly', 'Absences', 'ParentalSupport',\n",
              "       'GPA', 'GradeClass'],\n",
              "      dtype='object')"
            ]
          },
          "execution_count": 3,
          "metadata": {},
          "output_type": "execute_result"
        }
      ],
      "source": [
        "#listing the column names\n",
        "df = pd.read_csv('Student_List_A2.csv')\n",
        "df.columns"
      ]
    },
    {
      "cell_type": "markdown",
      "id": "90d1aabc-e052-4aad-85ea-40a6612ab81e",
      "metadata": {
        "id": "90d1aabc-e052-4aad-85ea-40a6612ab81e"
      },
      "source": [
        "2. In this dataset, ‘GradeClass’ column contains the classification of students'\n",
        "grades based on GPA.\n",
        "Replace the numerical grade classifications (0, 1, 2, 3, 4) in the ‘GradeClass’\n",
        "column with their corresponding letter grades ('A', 'B', 'C', 'D', 'F')."
      ]
    },
    {
      "cell_type": "code",
      "execution_count": null,
      "id": "f6986433-a80a-4e42-9a45-37dfef6a5579",
      "metadata": {
        "id": "f6986433-a80a-4e42-9a45-37dfef6a5579",
        "outputId": "82836977-f10d-4f16-aff6-15ce5a69a284"
      },
      "outputs": [
        {
          "data": {
            "text/html": [
              "<div>\n",
              "<style scoped>\n",
              "    .dataframe tbody tr th:only-of-type {\n",
              "        vertical-align: middle;\n",
              "    }\n",
              "\n",
              "    .dataframe tbody tr th {\n",
              "        vertical-align: top;\n",
              "    }\n",
              "\n",
              "    .dataframe thead th {\n",
              "        text-align: right;\n",
              "    }\n",
              "</style>\n",
              "<table border=\"1\" class=\"dataframe\">\n",
              "  <thead>\n",
              "    <tr style=\"text-align: right;\">\n",
              "      <th></th>\n",
              "      <th>StudentID</th>\n",
              "      <th>Age</th>\n",
              "      <th>StudyTimeWeekly</th>\n",
              "      <th>Absences</th>\n",
              "      <th>ParentalSupport</th>\n",
              "      <th>GPA</th>\n",
              "      <th>GradeClass</th>\n",
              "    </tr>\n",
              "  </thead>\n",
              "  <tbody>\n",
              "    <tr>\n",
              "      <th>0</th>\n",
              "      <td>1002</td>\n",
              "      <td>18</td>\n",
              "      <td>15.408756</td>\n",
              "      <td>0</td>\n",
              "      <td>1</td>\n",
              "      <td>3.042915</td>\n",
              "      <td>1</td>\n",
              "    </tr>\n",
              "    <tr>\n",
              "      <th>1</th>\n",
              "      <td>1003</td>\n",
              "      <td>15</td>\n",
              "      <td>4.210570</td>\n",
              "      <td>26</td>\n",
              "      <td>2</td>\n",
              "      <td>0.112602</td>\n",
              "      <td>4</td>\n",
              "    </tr>\n",
              "    <tr>\n",
              "      <th>2</th>\n",
              "      <td>1004</td>\n",
              "      <td>17</td>\n",
              "      <td>10.028829</td>\n",
              "      <td>14</td>\n",
              "      <td>3</td>\n",
              "      <td>2.054218</td>\n",
              "      <td>3</td>\n",
              "    </tr>\n",
              "    <tr>\n",
              "      <th>3</th>\n",
              "      <td>1005</td>\n",
              "      <td>17</td>\n",
              "      <td>4.672495</td>\n",
              "      <td>17</td>\n",
              "      <td>3</td>\n",
              "      <td>1.288061</td>\n",
              "      <td>4</td>\n",
              "    </tr>\n",
              "    <tr>\n",
              "      <th>4</th>\n",
              "      <td>1006</td>\n",
              "      <td>18</td>\n",
              "      <td>8.191219</td>\n",
              "      <td>0</td>\n",
              "      <td>1</td>\n",
              "      <td>3.084184</td>\n",
              "      <td>1</td>\n",
              "    </tr>\n",
              "  </tbody>\n",
              "</table>\n",
              "</div>"
            ],
            "text/plain": [
              "   StudentID  Age  StudyTimeWeekly  Absences  ParentalSupport       GPA  \\\n",
              "0       1002   18        15.408756         0                1  3.042915   \n",
              "1       1003   15         4.210570        26                2  0.112602   \n",
              "2       1004   17        10.028829        14                3  2.054218   \n",
              "3       1005   17         4.672495        17                3  1.288061   \n",
              "4       1006   18         8.191219         0                1  3.084184   \n",
              "\n",
              "   GradeClass  \n",
              "0           1  \n",
              "1           4  \n",
              "2           3  \n",
              "3           4  \n",
              "4           1  "
            ]
          },
          "execution_count": 4,
          "metadata": {},
          "output_type": "execute_result"
        }
      ],
      "source": [
        "df.head()"
      ]
    },
    {
      "cell_type": "code",
      "execution_count": null,
      "id": "4bc4c84b-a573-4cbd-b0c2-9e94f5371d04",
      "metadata": {
        "id": "4bc4c84b-a573-4cbd-b0c2-9e94f5371d04",
        "outputId": "499b39a2-30d2-4156-c862-087eda9a8c32"
      },
      "outputs": [
        {
          "data": {
            "text/html": [
              "<div>\n",
              "<style scoped>\n",
              "    .dataframe tbody tr th:only-of-type {\n",
              "        vertical-align: middle;\n",
              "    }\n",
              "\n",
              "    .dataframe tbody tr th {\n",
              "        vertical-align: top;\n",
              "    }\n",
              "\n",
              "    .dataframe thead th {\n",
              "        text-align: right;\n",
              "    }\n",
              "</style>\n",
              "<table border=\"1\" class=\"dataframe\">\n",
              "  <thead>\n",
              "    <tr style=\"text-align: right;\">\n",
              "      <th></th>\n",
              "      <th>StudentID</th>\n",
              "      <th>Age</th>\n",
              "      <th>StudyTimeWeekly</th>\n",
              "      <th>Absences</th>\n",
              "      <th>ParentalSupport</th>\n",
              "      <th>GPA</th>\n",
              "      <th>GradeClass</th>\n",
              "    </tr>\n",
              "  </thead>\n",
              "  <tbody>\n",
              "    <tr>\n",
              "      <th>0</th>\n",
              "      <td>1002</td>\n",
              "      <td>18</td>\n",
              "      <td>15.408756</td>\n",
              "      <td>0</td>\n",
              "      <td>1</td>\n",
              "      <td>3.042915</td>\n",
              "      <td>B</td>\n",
              "    </tr>\n",
              "    <tr>\n",
              "      <th>1</th>\n",
              "      <td>1003</td>\n",
              "      <td>15</td>\n",
              "      <td>4.210570</td>\n",
              "      <td>26</td>\n",
              "      <td>2</td>\n",
              "      <td>0.112602</td>\n",
              "      <td>F</td>\n",
              "    </tr>\n",
              "    <tr>\n",
              "      <th>2</th>\n",
              "      <td>1004</td>\n",
              "      <td>17</td>\n",
              "      <td>10.028829</td>\n",
              "      <td>14</td>\n",
              "      <td>3</td>\n",
              "      <td>2.054218</td>\n",
              "      <td>D</td>\n",
              "    </tr>\n",
              "    <tr>\n",
              "      <th>3</th>\n",
              "      <td>1005</td>\n",
              "      <td>17</td>\n",
              "      <td>4.672495</td>\n",
              "      <td>17</td>\n",
              "      <td>3</td>\n",
              "      <td>1.288061</td>\n",
              "      <td>F</td>\n",
              "    </tr>\n",
              "    <tr>\n",
              "      <th>4</th>\n",
              "      <td>1006</td>\n",
              "      <td>18</td>\n",
              "      <td>8.191219</td>\n",
              "      <td>0</td>\n",
              "      <td>1</td>\n",
              "      <td>3.084184</td>\n",
              "      <td>B</td>\n",
              "    </tr>\n",
              "  </tbody>\n",
              "</table>\n",
              "</div>"
            ],
            "text/plain": [
              "   StudentID  Age  StudyTimeWeekly  Absences  ParentalSupport       GPA  \\\n",
              "0       1002   18        15.408756         0                1  3.042915   \n",
              "1       1003   15         4.210570        26                2  0.112602   \n",
              "2       1004   17        10.028829        14                3  2.054218   \n",
              "3       1005   17         4.672495        17                3  1.288061   \n",
              "4       1006   18         8.191219         0                1  3.084184   \n",
              "\n",
              "  GradeClass  \n",
              "0          B  \n",
              "1          F  \n",
              "2          D  \n",
              "3          F  \n",
              "4          B  "
            ]
          },
          "execution_count": 5,
          "metadata": {},
          "output_type": "execute_result"
        }
      ],
      "source": [
        "replace_frame = {0:'A',1:'B',2:'C',3:'D',4:'F'}\n",
        "df.GradeClass = df.GradeClass.replace(replace_frame)\n",
        "df.head()"
      ]
    },
    {
      "cell_type": "markdown",
      "id": "8199c844-716c-4c13-9561-261abc41d390",
      "metadata": {
        "id": "8199c844-716c-4c13-9561-261abc41d390"
      },
      "source": [
        "3. Can you identify any missing values in the columns of this dataset? If so, replace\n",
        "the missing values with the median value of the relevant column where you find\n",
        "missing values."
      ]
    },
    {
      "cell_type": "code",
      "execution_count": null,
      "id": "7a724528-b751-4f96-8e59-bc443bf7d733",
      "metadata": {
        "id": "7a724528-b751-4f96-8e59-bc443bf7d733",
        "outputId": "588c01e4-c46e-447d-e9ae-9f42e4c25442"
      },
      "outputs": [
        {
          "data": {
            "text/plain": [
              "StudentID           0\n",
              "Age                 0\n",
              "StudyTimeWeekly    21\n",
              "Absences            0\n",
              "ParentalSupport     0\n",
              "GPA                 0\n",
              "GradeClass          0\n",
              "dtype: int64"
            ]
          },
          "execution_count": 6,
          "metadata": {},
          "output_type": "execute_result"
        }
      ],
      "source": [
        "#checking empty values in each column\n",
        "empty_values = df.isnull().sum()\n",
        "empty_values"
      ]
    },
    {
      "cell_type": "code",
      "execution_count": null,
      "id": "7a78cb45-07ab-4634-9829-7d4af9b02d3e",
      "metadata": {
        "id": "7a78cb45-07ab-4634-9829-7d4af9b02d3e",
        "outputId": "281105c9-c478-4f9d-c704-6ef636760d9b"
      },
      "outputs": [
        {
          "data": {
            "text/plain": [
              "StudentID          0\n",
              "Age                0\n",
              "StudyTimeWeekly    0\n",
              "Absences           0\n",
              "ParentalSupport    0\n",
              "GPA                0\n",
              "GradeClass         0\n",
              "dtype: int64"
            ]
          },
          "execution_count": 7,
          "metadata": {},
          "output_type": "execute_result"
        }
      ],
      "source": [
        "#replacing empty values with median\n",
        "df['StudyTimeWeekly'] = df['StudyTimeWeekly'].fillna(df['StudyTimeWeekly'].median())\n",
        "#checking if empty values have been replaced\n",
        "empty_values = df.isnull().sum()\n",
        "empty_values"
      ]
    },
    {
      "cell_type": "markdown",
      "id": "afca6fdc-65a5-460b-b946-4ce5bef90365",
      "metadata": {
        "id": "afca6fdc-65a5-460b-b946-4ce5bef90365"
      },
      "source": [
        "4. Identify a data quality problem related to the ‘Absences’ column and delete the\n",
        "rows that exhibit this problem. Refer to Week 4 for information on data quality\n",
        "problems."
      ]
    },
    {
      "cell_type": "code",
      "execution_count": null,
      "id": "9c772104-7766-45ae-b4b9-a1826d74375e",
      "metadata": {
        "id": "9c772104-7766-45ae-b4b9-a1826d74375e",
        "outputId": "54bd470c-91b8-42ec-c0fe-3d2a43b091d3"
      },
      "outputs": [
        {
          "data": {
            "text/plain": [
              "0"
            ]
          },
          "execution_count": 8,
          "metadata": {},
          "output_type": "execute_result"
        }
      ],
      "source": [
        "#detect missing value\n",
        "missing_values = df['Absences'].isnull().sum()\n",
        "missing_values"
      ]
    },
    {
      "cell_type": "code",
      "execution_count": null,
      "id": "9a83f054-6b71-49b0-b204-fe643195b306",
      "metadata": {
        "id": "9a83f054-6b71-49b0-b204-fe643195b306",
        "outputId": "489a410a-3551-4aee-ca2d-9798d5c74c0e"
      },
      "outputs": [
        {
          "data": {
            "text/plain": [
              "0"
            ]
          },
          "execution_count": 9,
          "metadata": {},
          "output_type": "execute_result"
        }
      ],
      "source": [
        "#detect mistyped data (not integers)\n",
        "mistyped_data = df['Absences'].apply(lambda x: not isinstance(x, int)).sum()\n",
        "mistyped_data"
      ]
    },
    {
      "cell_type": "code",
      "execution_count": null,
      "id": "905c29be-79c7-4422-8fe3-98500b3fabc3",
      "metadata": {
        "id": "905c29be-79c7-4422-8fe3-98500b3fabc3",
        "outputId": "c8dc2008-0f04-4db6-efa5-a3b66bbc2911"
      },
      "outputs": [
        {
          "data": {
            "text/plain": [
              "1"
            ]
          },
          "execution_count": 10,
          "metadata": {},
          "output_type": "execute_result"
        }
      ],
      "source": [
        "#detect negative values\n",
        "negative_values = df['Absences'].apply(lambda x: x < 0).sum()\n",
        "negative_values"
      ]
    },
    {
      "cell_type": "code",
      "execution_count": null,
      "id": "bb254c5c-d0a5-4ecb-a6e4-41dd305a281e",
      "metadata": {
        "id": "bb254c5c-d0a5-4ecb-a6e4-41dd305a281e",
        "outputId": "dc757619-0f31-49ba-e63d-8e45a6880217"
      },
      "outputs": [
        {
          "data": {
            "text/plain": [
              "0"
            ]
          },
          "execution_count": 11,
          "metadata": {},
          "output_type": "execute_result"
        }
      ],
      "source": [
        "#filter out negative value\n",
        "df = df[df['Absences'] >= 0]\n",
        "#checking if there are still negative values\n",
        "negative_values = df['Absences'].apply(lambda x: x < 0).sum()\n",
        "negative_values"
      ]
    },
    {
      "cell_type": "code",
      "execution_count": null,
      "id": "c8821c95-440b-48df-b801-8a89bd8c3d0f",
      "metadata": {
        "id": "c8821c95-440b-48df-b801-8a89bd8c3d0f",
        "outputId": "f432c304-80f6-4df4-add9-4eb4e1338582"
      },
      "outputs": [
        {
          "data": {
            "text/html": [
              "<div>\n",
              "<style scoped>\n",
              "    .dataframe tbody tr th:only-of-type {\n",
              "        vertical-align: middle;\n",
              "    }\n",
              "\n",
              "    .dataframe tbody tr th {\n",
              "        vertical-align: top;\n",
              "    }\n",
              "\n",
              "    .dataframe thead th {\n",
              "        text-align: right;\n",
              "    }\n",
              "</style>\n",
              "<table border=\"1\" class=\"dataframe\">\n",
              "  <thead>\n",
              "    <tr style=\"text-align: right;\">\n",
              "      <th></th>\n",
              "      <th>StudentID</th>\n",
              "      <th>Age</th>\n",
              "      <th>StudyTimeWeekly</th>\n",
              "      <th>Absences</th>\n",
              "      <th>ParentalSupport</th>\n",
              "      <th>GPA</th>\n",
              "      <th>GradeClass</th>\n",
              "    </tr>\n",
              "  </thead>\n",
              "  <tbody>\n",
              "    <tr>\n",
              "      <th>112</th>\n",
              "      <td>1114</td>\n",
              "      <td>16</td>\n",
              "      <td>16.849282</td>\n",
              "      <td>320</td>\n",
              "      <td>1</td>\n",
              "      <td>1.919956</td>\n",
              "      <td>F</td>\n",
              "    </tr>\n",
              "  </tbody>\n",
              "</table>\n",
              "</div>"
            ],
            "text/plain": [
              "     StudentID  Age  StudyTimeWeekly  Absences  ParentalSupport       GPA  \\\n",
              "112       1114   16        16.849282       320                1  1.919956   \n",
              "\n",
              "    GradeClass  \n",
              "112          F  "
            ]
          },
          "execution_count": 12,
          "metadata": {},
          "output_type": "execute_result"
        }
      ],
      "source": [
        "#detect outliers\n",
        "Q1 = df['Absences'].quantile(0.25)\n",
        "Q3 = df['Absences'].quantile(0.75)\n",
        "IQR = Q3 - Q1\n",
        "lower_bound = Q1 - 1.5 * IQR\n",
        "upper_bound = Q3 + 1.5 * IQR\n",
        "outliers = df[(df['Absences'] < lower_bound) | (df['Absences'] > upper_bound)]\n",
        "outliers"
      ]
    },
    {
      "cell_type": "code",
      "execution_count": null,
      "id": "87659303-f73b-48c3-82bd-4ba301842153",
      "metadata": {
        "id": "87659303-f73b-48c3-82bd-4ba301842153",
        "outputId": "f0bd5d0f-a09c-48ab-8614-c4f3faa9ef9b"
      },
      "outputs": [
        {
          "data": {
            "text/html": [
              "<div>\n",
              "<style scoped>\n",
              "    .dataframe tbody tr th:only-of-type {\n",
              "        vertical-align: middle;\n",
              "    }\n",
              "\n",
              "    .dataframe tbody tr th {\n",
              "        vertical-align: top;\n",
              "    }\n",
              "\n",
              "    .dataframe thead th {\n",
              "        text-align: right;\n",
              "    }\n",
              "</style>\n",
              "<table border=\"1\" class=\"dataframe\">\n",
              "  <thead>\n",
              "    <tr style=\"text-align: right;\">\n",
              "      <th></th>\n",
              "      <th>StudentID</th>\n",
              "      <th>Age</th>\n",
              "      <th>StudyTimeWeekly</th>\n",
              "      <th>Absences</th>\n",
              "      <th>ParentalSupport</th>\n",
              "      <th>GPA</th>\n",
              "      <th>GradeClass</th>\n",
              "    </tr>\n",
              "  </thead>\n",
              "  <tbody>\n",
              "  </tbody>\n",
              "</table>\n",
              "</div>"
            ],
            "text/plain": [
              "Empty DataFrame\n",
              "Columns: [StudentID, Age, StudyTimeWeekly, Absences, ParentalSupport, GPA, GradeClass]\n",
              "Index: []"
            ]
          },
          "execution_count": 13,
          "metadata": {},
          "output_type": "execute_result"
        }
      ],
      "source": [
        "#filter outliers\n",
        "df = df[(df['Absences'] >= lower_bound) & (df['Absences'] <= upper_bound)]\n",
        "#checking if there are still outliers\n",
        "outliers = df[(df['Absences'] < lower_bound) | (df['Absences'] > upper_bound)]\n",
        "outliers"
      ]
    },
    {
      "cell_type": "markdown",
      "id": "62422aa8-8ebf-4e9c-be3b-e5c1e8f96f86",
      "metadata": {
        "id": "62422aa8-8ebf-4e9c-be3b-e5c1e8f96f86"
      },
      "source": [
        "5. Examine the 'GPA' and 'GradeClass' columns together for additional data quality\n",
        "issues. Propose an appropriate solution for these issues and resolve them."
      ]
    },
    {
      "cell_type": "code",
      "execution_count": null,
      "id": "f7c1b674-7642-4275-aa58-2dda37538f2f",
      "metadata": {
        "id": "f7c1b674-7642-4275-aa58-2dda37538f2f",
        "outputId": "fd13683a-21bf-4105-8252-91f55ad3b75c"
      },
      "outputs": [
        {
          "data": {
            "text/html": [
              "<div>\n",
              "<style scoped>\n",
              "    .dataframe tbody tr th:only-of-type {\n",
              "        vertical-align: middle;\n",
              "    }\n",
              "\n",
              "    .dataframe tbody tr th {\n",
              "        vertical-align: top;\n",
              "    }\n",
              "\n",
              "    .dataframe thead th {\n",
              "        text-align: right;\n",
              "    }\n",
              "</style>\n",
              "<table border=\"1\" class=\"dataframe\">\n",
              "  <thead>\n",
              "    <tr style=\"text-align: right;\">\n",
              "      <th></th>\n",
              "      <th>StudentID</th>\n",
              "      <th>Age</th>\n",
              "      <th>StudyTimeWeekly</th>\n",
              "      <th>Absences</th>\n",
              "      <th>ParentalSupport</th>\n",
              "      <th>GPA</th>\n",
              "      <th>GradeClass</th>\n",
              "      <th>CorrectGradeClass</th>\n",
              "    </tr>\n",
              "  </thead>\n",
              "  <tbody>\n",
              "    <tr>\n",
              "      <th>2000</th>\n",
              "      <td>3182</td>\n",
              "      <td>15</td>\n",
              "      <td>3.253044</td>\n",
              "      <td>13</td>\n",
              "      <td>1</td>\n",
              "      <td>1.844056</td>\n",
              "      <td>B</td>\n",
              "      <td>F</td>\n",
              "    </tr>\n",
              "    <tr>\n",
              "      <th>2001</th>\n",
              "      <td>3183</td>\n",
              "      <td>17</td>\n",
              "      <td>17.086920</td>\n",
              "      <td>25</td>\n",
              "      <td>2</td>\n",
              "      <td>1.305585</td>\n",
              "      <td>C</td>\n",
              "      <td>F</td>\n",
              "    </tr>\n",
              "    <tr>\n",
              "      <th>2002</th>\n",
              "      <td>3189</td>\n",
              "      <td>16</td>\n",
              "      <td>5.697054</td>\n",
              "      <td>9</td>\n",
              "      <td>1</td>\n",
              "      <td>2.459805</td>\n",
              "      <td>B</td>\n",
              "      <td>D</td>\n",
              "    </tr>\n",
              "    <tr>\n",
              "      <th>2003</th>\n",
              "      <td>3193</td>\n",
              "      <td>16</td>\n",
              "      <td>15.827054</td>\n",
              "      <td>28</td>\n",
              "      <td>1</td>\n",
              "      <td>0.818126</td>\n",
              "      <td>C</td>\n",
              "      <td>F</td>\n",
              "    </tr>\n",
              "    <tr>\n",
              "      <th>2004</th>\n",
              "      <td>3195</td>\n",
              "      <td>15</td>\n",
              "      <td>15.615710</td>\n",
              "      <td>26</td>\n",
              "      <td>3</td>\n",
              "      <td>1.174610</td>\n",
              "      <td>A</td>\n",
              "      <td>F</td>\n",
              "    </tr>\n",
              "    <tr>\n",
              "      <th>...</th>\n",
              "      <td>...</td>\n",
              "      <td>...</td>\n",
              "      <td>...</td>\n",
              "      <td>...</td>\n",
              "      <td>...</td>\n",
              "      <td>...</td>\n",
              "      <td>...</td>\n",
              "      <td>...</td>\n",
              "    </tr>\n",
              "    <tr>\n",
              "      <th>2095</th>\n",
              "      <td>3386</td>\n",
              "      <td>16</td>\n",
              "      <td>1.445434</td>\n",
              "      <td>20</td>\n",
              "      <td>3</td>\n",
              "      <td>1.395631</td>\n",
              "      <td>B</td>\n",
              "      <td>F</td>\n",
              "    </tr>\n",
              "    <tr>\n",
              "      <th>2096</th>\n",
              "      <td>3388</td>\n",
              "      <td>18</td>\n",
              "      <td>10.680555</td>\n",
              "      <td>2</td>\n",
              "      <td>4</td>\n",
              "      <td>3.455509</td>\n",
              "      <td>A</td>\n",
              "      <td>B</td>\n",
              "    </tr>\n",
              "    <tr>\n",
              "      <th>2097</th>\n",
              "      <td>3390</td>\n",
              "      <td>16</td>\n",
              "      <td>6.805500</td>\n",
              "      <td>20</td>\n",
              "      <td>2</td>\n",
              "      <td>1.142333</td>\n",
              "      <td>C</td>\n",
              "      <td>F</td>\n",
              "    </tr>\n",
              "    <tr>\n",
              "      <th>2098</th>\n",
              "      <td>3391</td>\n",
              "      <td>16</td>\n",
              "      <td>12.416653</td>\n",
              "      <td>17</td>\n",
              "      <td>2</td>\n",
              "      <td>1.803297</td>\n",
              "      <td>B</td>\n",
              "      <td>F</td>\n",
              "    </tr>\n",
              "    <tr>\n",
              "      <th>2099</th>\n",
              "      <td>3392</td>\n",
              "      <td>16</td>\n",
              "      <td>17.819907</td>\n",
              "      <td>13</td>\n",
              "      <td>2</td>\n",
              "      <td>2.140014</td>\n",
              "      <td>B</td>\n",
              "      <td>D</td>\n",
              "    </tr>\n",
              "  </tbody>\n",
              "</table>\n",
              "<p>100 rows × 8 columns</p>\n",
              "</div>"
            ],
            "text/plain": [
              "      StudentID  Age  StudyTimeWeekly  Absences  ParentalSupport       GPA  \\\n",
              "2000       3182   15         3.253044        13                1  1.844056   \n",
              "2001       3183   17        17.086920        25                2  1.305585   \n",
              "2002       3189   16         5.697054         9                1  2.459805   \n",
              "2003       3193   16        15.827054        28                1  0.818126   \n",
              "2004       3195   15        15.615710        26                3  1.174610   \n",
              "...         ...  ...              ...       ...              ...       ...   \n",
              "2095       3386   16         1.445434        20                3  1.395631   \n",
              "2096       3388   18        10.680555         2                4  3.455509   \n",
              "2097       3390   16         6.805500        20                2  1.142333   \n",
              "2098       3391   16        12.416653        17                2  1.803297   \n",
              "2099       3392   16        17.819907        13                2  2.140014   \n",
              "\n",
              "     GradeClass CorrectGradeClass  \n",
              "2000          B                 F  \n",
              "2001          C                 F  \n",
              "2002          B                 D  \n",
              "2003          C                 F  \n",
              "2004          A                 F  \n",
              "...         ...               ...  \n",
              "2095          B                 F  \n",
              "2096          A                 B  \n",
              "2097          C                 F  \n",
              "2098          B                 F  \n",
              "2099          B                 D  \n",
              "\n",
              "[100 rows x 8 columns]"
            ]
          },
          "execution_count": 14,
          "metadata": {},
          "output_type": "execute_result"
        }
      ],
      "source": [
        "#define a function to check if the GradeClass matches GPA\n",
        "def check_grade_class(row):\n",
        "    if row['GPA'] >= 3.5:\n",
        "        return 'A'\n",
        "    elif row['GPA'] >= 3.0:\n",
        "        return 'B'\n",
        "    elif row['GPA'] >= 2.5:\n",
        "        return 'C'\n",
        "    elif row['GPA'] >= 2.0:\n",
        "        return 'D'\n",
        "    else:\n",
        "        return 'F'\n",
        "\n",
        "# apply the function to create a 'CorrectGradeClass' column\n",
        "df['CorrectGradeClass'] = df.apply(check_grade_class, axis = 1)\n",
        "\n",
        "# identify mismatches between the 'GradeClass' and 'CorrectGradeClass'\n",
        "mismatches = df[df['GradeClass'] != df['CorrectGradeClass']]\n",
        "mismatches"
      ]
    },
    {
      "cell_type": "code",
      "execution_count": null,
      "id": "f8324040-f80d-468c-91a5-d86ba5a1a3c9",
      "metadata": {
        "id": "f8324040-f80d-468c-91a5-d86ba5a1a3c9",
        "outputId": "17068dc7-1041-4790-87ef-73d16fb1b057"
      },
      "outputs": [
        {
          "data": {
            "text/html": [
              "<div>\n",
              "<style scoped>\n",
              "    .dataframe tbody tr th:only-of-type {\n",
              "        vertical-align: middle;\n",
              "    }\n",
              "\n",
              "    .dataframe tbody tr th {\n",
              "        vertical-align: top;\n",
              "    }\n",
              "\n",
              "    .dataframe thead th {\n",
              "        text-align: right;\n",
              "    }\n",
              "</style>\n",
              "<table border=\"1\" class=\"dataframe\">\n",
              "  <thead>\n",
              "    <tr style=\"text-align: right;\">\n",
              "      <th></th>\n",
              "      <th>StudentID</th>\n",
              "      <th>Age</th>\n",
              "      <th>StudyTimeWeekly</th>\n",
              "      <th>Absences</th>\n",
              "      <th>ParentalSupport</th>\n",
              "      <th>GPA</th>\n",
              "      <th>GradeClass</th>\n",
              "    </tr>\n",
              "  </thead>\n",
              "  <tbody>\n",
              "  </tbody>\n",
              "</table>\n",
              "</div>"
            ],
            "text/plain": [
              "Empty DataFrame\n",
              "Columns: [StudentID, Age, StudyTimeWeekly, Absences, ParentalSupport, GPA, GradeClass]\n",
              "Index: []"
            ]
          },
          "execution_count": 15,
          "metadata": {},
          "output_type": "execute_result"
        }
      ],
      "source": [
        "# update 'GradeClass' to match the correct grade based on GPA\n",
        "df['GradeClass'] = df['CorrectGradeClass']\n",
        "\n",
        "# drop the 'CorrectGradeClass' helper column\n",
        "df.drop(columns=['CorrectGradeClass'], inplace=True)\n",
        "\n",
        "#checking if there are any mismatches left\n",
        "mismatches = df[df['GradeClass'] != df.apply(check_grade_class, axis=1)]\n",
        "mismatches"
      ]
    },
    {
      "cell_type": "markdown",
      "id": "5252008c-59ce-44ac-9409-9a225bcdd5b2",
      "metadata": {
        "id": "5252008c-59ce-44ac-9409-9a225bcdd5b2"
      },
      "source": [
        "## A2. Supervised Learning (1.5 marks)"
      ]
    },
    {
      "cell_type": "markdown",
      "id": "ea465e81-970a-401a-be4c-676f81477b85",
      "metadata": {
        "id": "ea465e81-970a-401a-be4c-676f81477b85"
      },
      "source": [
        "1. Explain supervised machine learning, the notion of labelled data, and train and\n",
        "test datasets."
      ]
    },
    {
      "cell_type": "markdown",
      "id": "37c5ed1c-0b0c-4c1f-9b16-eb8ff2ad6be7",
      "metadata": {
        "id": "37c5ed1c-0b0c-4c1f-9b16-eb8ff2ad6be7"
      },
      "source": [
        "- supervised machine learning is a method of training a model or algorithm using labelled data to make predictions. The model is trained using a complete dataset of various inputs which are independant variables plus the correct output for each input record. The goal is for the algorithm to learn the relationship between the input and output so that it can make accurate predictions on future data.\n",
        "- Labelled data us a dataset that contains both the input features and the correct output label. This is important so that the machine learning model is able to learn the relationship between the inputs and the outputs.\n",
        "- Train data or training dataset refers to a portion of a large dataset which is split out from the main dataset of labelled data (usually about 80%), used to learn patterns and relationship between the inputs and output. During this process, the model continuously update and tune its parameters and coefficients for each input based on the weightage of their effects on the output to increase the accuracy and minimise errors of prediction.\n",
        "- Test data or testing dataset is a separate set of data that is split form the train data. This data is not used to train the algorithm before and thus is used to evaluate the model's performance on unseen data and how well it generalises to other datasets. It is used to test how well it can predict the output of the test data given the input features and the accuracy score is shown. This is important to test if the machine learning model is having problems like underfitting or overfitting of the training data."
      ]
    },
    {
      "cell_type": "markdown",
      "id": "bad9781c-de52-4c6c-a788-1bbd5548b689",
      "metadata": {
        "id": "bad9781c-de52-4c6c-a788-1bbd5548b689"
      },
      "source": [
        "2. Use the wrangled data from A1 and separate the features and the label. Note\n",
        "that:\n",
        "o the label, in this case, is the ‘GradeClass’\n",
        "o studentID is not logically a useful predictor of a student's grade so should\n",
        "not be used as a feature\n",
        "o GPA is translated to GradeClass. They both represent the same thing so\n",
        "GPA should not be used as a feature.\n",
        "o Use the rest of the features as predictors."
      ]
    },
    {
      "cell_type": "code",
      "execution_count": null,
      "id": "cf0805c1-d39f-4e83-a9a2-554d09bdf268",
      "metadata": {
        "id": "cf0805c1-d39f-4e83-a9a2-554d09bdf268"
      },
      "outputs": [],
      "source": [
        "#importing directories\n",
        "import pandas as pd\n",
        "from sklearn.model_selection import train_test_split\n",
        "import numpy as np"
      ]
    },
    {
      "cell_type": "code",
      "execution_count": null,
      "id": "1fd6d9ff-4fd8-4c73-801f-6d078a5edb30",
      "metadata": {
        "id": "1fd6d9ff-4fd8-4c73-801f-6d078a5edb30",
        "outputId": "7f453e1b-b7db-447e-dd12-64db307ce041"
      },
      "outputs": [
        {
          "data": {
            "text/html": [
              "<div>\n",
              "<style scoped>\n",
              "    .dataframe tbody tr th:only-of-type {\n",
              "        vertical-align: middle;\n",
              "    }\n",
              "\n",
              "    .dataframe tbody tr th {\n",
              "        vertical-align: top;\n",
              "    }\n",
              "\n",
              "    .dataframe thead th {\n",
              "        text-align: right;\n",
              "    }\n",
              "</style>\n",
              "<table border=\"1\" class=\"dataframe\">\n",
              "  <thead>\n",
              "    <tr style=\"text-align: right;\">\n",
              "      <th></th>\n",
              "      <th>StudentID</th>\n",
              "      <th>Age</th>\n",
              "      <th>StudyTimeWeekly</th>\n",
              "      <th>Absences</th>\n",
              "      <th>ParentalSupport</th>\n",
              "      <th>GPA</th>\n",
              "      <th>GradeClass</th>\n",
              "    </tr>\n",
              "  </thead>\n",
              "  <tbody>\n",
              "    <tr>\n",
              "      <th>0</th>\n",
              "      <td>1002</td>\n",
              "      <td>18</td>\n",
              "      <td>15.408756</td>\n",
              "      <td>0</td>\n",
              "      <td>1</td>\n",
              "      <td>3.042915</td>\n",
              "      <td>B</td>\n",
              "    </tr>\n",
              "    <tr>\n",
              "      <th>1</th>\n",
              "      <td>1003</td>\n",
              "      <td>15</td>\n",
              "      <td>4.210570</td>\n",
              "      <td>26</td>\n",
              "      <td>2</td>\n",
              "      <td>0.112602</td>\n",
              "      <td>F</td>\n",
              "    </tr>\n",
              "    <tr>\n",
              "      <th>2</th>\n",
              "      <td>1004</td>\n",
              "      <td>17</td>\n",
              "      <td>10.028829</td>\n",
              "      <td>14</td>\n",
              "      <td>3</td>\n",
              "      <td>2.054218</td>\n",
              "      <td>D</td>\n",
              "    </tr>\n",
              "    <tr>\n",
              "      <th>3</th>\n",
              "      <td>1005</td>\n",
              "      <td>17</td>\n",
              "      <td>4.672495</td>\n",
              "      <td>17</td>\n",
              "      <td>3</td>\n",
              "      <td>1.288061</td>\n",
              "      <td>F</td>\n",
              "    </tr>\n",
              "    <tr>\n",
              "      <th>4</th>\n",
              "      <td>1006</td>\n",
              "      <td>18</td>\n",
              "      <td>8.191219</td>\n",
              "      <td>0</td>\n",
              "      <td>1</td>\n",
              "      <td>3.084184</td>\n",
              "      <td>B</td>\n",
              "    </tr>\n",
              "  </tbody>\n",
              "</table>\n",
              "</div>"
            ],
            "text/plain": [
              "   StudentID  Age  StudyTimeWeekly  Absences  ParentalSupport       GPA  \\\n",
              "0       1002   18        15.408756         0                1  3.042915   \n",
              "1       1003   15         4.210570        26                2  0.112602   \n",
              "2       1004   17        10.028829        14                3  2.054218   \n",
              "3       1005   17         4.672495        17                3  1.288061   \n",
              "4       1006   18         8.191219         0                1  3.084184   \n",
              "\n",
              "  GradeClass  \n",
              "0          B  \n",
              "1          F  \n",
              "2          D  \n",
              "3          F  \n",
              "4          B  "
            ]
          },
          "execution_count": 17,
          "metadata": {},
          "output_type": "execute_result"
        }
      ],
      "source": [
        "df.head()"
      ]
    },
    {
      "cell_type": "code",
      "execution_count": null,
      "id": "57cf2433-645f-4900-8875-37a84eac918b",
      "metadata": {
        "id": "57cf2433-645f-4900-8875-37a84eac918b"
      },
      "outputs": [],
      "source": [
        "#X represent features and Y represent label\n",
        "X = df.drop(columns = ['StudentID','GPA','GradeClass'],axis = 1)\n",
        "Y = df['GradeClass']"
      ]
    },
    {
      "cell_type": "markdown",
      "id": "f8981290-c372-47a2-9aa4-c8ed3be5c5b0",
      "metadata": {
        "id": "f8981290-c372-47a2-9aa4-c8ed3be5c5b0"
      },
      "source": [
        "3. Use the sklearn.model_selection.train_test_split function to split your data for\n",
        "training and testing (Keep 80% of the data for training)."
      ]
    },
    {
      "cell_type": "code",
      "execution_count": null,
      "id": "71aad8d3-287f-497e-a354-f4e67655c9e9",
      "metadata": {
        "id": "71aad8d3-287f-497e-a354-f4e67655c9e9"
      },
      "outputs": [],
      "source": [
        "X_train, X_test, Y_train, Y_test = train_test_split(X, Y, test_size = 0.2, random_state = 0)"
      ]
    },
    {
      "cell_type": "markdown",
      "id": "828b3077-9bdd-4ae8-b3dc-d6ac966d8583",
      "metadata": {
        "id": "828b3077-9bdd-4ae8-b3dc-d6ac966d8583"
      },
      "source": [
        "## A3. Classification (training) (3 marks)"
      ]
    },
    {
      "cell_type": "markdown",
      "id": "f6422f89-7bb1-4495-9b72-a4cac34df326",
      "metadata": {
        "id": "f6422f89-7bb1-4495-9b72-a4cac34df326"
      },
      "source": [
        "1. In preparation for classification, your data should be normalised/scaled."
      ]
    },
    {
      "cell_type": "markdown",
      "id": "f40f8403-ad7f-434e-845a-955bd6c3b870",
      "metadata": {
        "id": "f40f8403-ad7f-434e-845a-955bd6c3b870"
      },
      "source": [
        "a. Describe what you understand from this need to normalise data (this is in\n",
        "your Week 7 applied session).|"
      ]
    },
    {
      "cell_type": "markdown",
      "id": "49b1795c-67a4-4bf4-b967-0b4af3951033",
      "metadata": {
        "id": "49b1795c-67a4-4bf4-b967-0b4af3951033"
      },
      "source": [
        "Different data has different ranges that varies widely. This will affect the function of some machine learning algorithms if no feature scaling is conducted. For instance, some classifiers calculate distance between two points using Euclidean distance. This means if one of the input features has a broader range of valies, the distacne will be heavily influenced by this feature and cause inaccurate predictions. On the other hand, if the range of values is small, the distance will be least affected by the input feature. This, the range of all input features should be normalised so that each feature contribute proportionately in terms of weightage to the final distance."
      ]
    },
    {
      "cell_type": "markdown",
      "id": "3172faae-1b1d-4962-a810-ee063e6d0a9e",
      "metadata": {
        "id": "3172faae-1b1d-4962-a810-ee063e6d0a9e"
      },
      "source": [
        "b. Choose and use the appropriate normalisation functions available in\n",
        "sklearn.preprocessing and scale the data appropriately."
      ]
    },
    {
      "cell_type": "code",
      "execution_count": null,
      "id": "a8dbb39a-a373-4577-a45a-7e80a1d93076",
      "metadata": {
        "id": "a8dbb39a-a373-4577-a45a-7e80a1d93076"
      },
      "outputs": [],
      "source": [
        "from sklearn.preprocessing import StandardScaler\n",
        "sc = StandardScaler()\n",
        "X_train = sc.fit_transform(X_train)\n",
        "X_test = sc.transform(X_test)"
      ]
    },
    {
      "cell_type": "markdown",
      "id": "75eaf9bd-b036-4b7d-ae58-6fa5afb6383a",
      "metadata": {
        "id": "75eaf9bd-b036-4b7d-ae58-6fa5afb6383a"
      },
      "source": [
        "2. Use the Support Vector Machine algorithm to build the model.\n",
        "a. Describe SVM. Again, this is not in your lecture content, you need to do\n",
        "some self-learning."
      ]
    },
    {
      "cell_type": "markdown",
      "id": "25a9f3e1-24d6-40ed-8d06-049e8deced07",
      "metadata": {
        "id": "25a9f3e1-24d6-40ed-8d06-049e8deced07"
      },
      "source": [
        "Support Vector Machine (SVM) is a supervised machine learning algorithm primarily used for classification tasks, though it can also be applied to regression. The core idea behind SVM is to find a hyperplane (a decision boundary) that best separates different classes in the feature space."
      ]
    },
    {
      "cell_type": "markdown",
      "id": "66e38ea7-b872-4245-858c-b59612b7d755",
      "metadata": {
        "id": "66e38ea7-b872-4245-858c-b59612b7d755"
      },
      "source": [
        "b. In SVM, there is something called the kernel. Explain what you\n",
        "understand from it."
      ]
    },
    {
      "cell_type": "markdown",
      "id": "ed4a5d6d-359c-4408-aab9-28a50174a72f",
      "metadata": {
        "id": "ed4a5d6d-359c-4408-aab9-28a50174a72f"
      },
      "source": [
        "SVM can handle non-linearly separable data through the use of kernel functions. A kernel transforms the original feature space into a higher-dimensional space where a linear hyperplane can effectively separate the classes. Common kernels include:\n",
        "Linear Kernel: Used for linearly separable data.\n",
        "Polynomial Kernel: Captures polynomial relationships between features.\n",
        "Radial Basis Function (RBF) Kernel: Effective for data that is not linearly separable."
      ]
    },
    {
      "cell_type": "markdown",
      "id": "a0ff82bd-5051-4819-8a6b-3c742b08db9f",
      "metadata": {
        "id": "a0ff82bd-5051-4819-8a6b-3c742b08db9f"
      },
      "source": [
        "c. Write the code to build a predictive SVM model using your training\n",
        "dataset. (Note: You are allowed to engineer or remove features as you\n",
        "deem appropriate)"
      ]
    },
    {
      "cell_type": "code",
      "execution_count": null,
      "id": "a7319f14-c394-4f62-a730-56a2a1f8aeea",
      "metadata": {
        "id": "a7319f14-c394-4f62-a730-56a2a1f8aeea"
      },
      "outputs": [],
      "source": [
        "import pandas as pd\n",
        "from sklearn.model_selection import train_test_split\n",
        "from sklearn import svm\n",
        "from sklearn.metrics import classification_report, confusion_matrix"
      ]
    },
    {
      "cell_type": "code",
      "execution_count": null,
      "id": "3d3364e1-217c-4540-af85-d80eadbd48af",
      "metadata": {
        "id": "3d3364e1-217c-4540-af85-d80eadbd48af"
      },
      "outputs": [],
      "source": [
        "model = svm.SVC(kernel='linear', C=1.0)"
      ]
    },
    {
      "cell_type": "code",
      "execution_count": null,
      "id": "18ce6da4-eecc-4fc3-a205-2fb7abde90f2",
      "metadata": {
        "id": "18ce6da4-eecc-4fc3-a205-2fb7abde90f2",
        "outputId": "f3a9fd2f-caf0-429a-fe79-e50fdce9b369"
      },
      "outputs": [
        {
          "data": {
            "text/html": [
              "<style>#sk-container-id-1 {\n",
              "  /* Definition of color scheme common for light and dark mode */\n",
              "  --sklearn-color-text: black;\n",
              "  --sklearn-color-line: gray;\n",
              "  /* Definition of color scheme for unfitted estimators */\n",
              "  --sklearn-color-unfitted-level-0: #fff5e6;\n",
              "  --sklearn-color-unfitted-level-1: #f6e4d2;\n",
              "  --sklearn-color-unfitted-level-2: #ffe0b3;\n",
              "  --sklearn-color-unfitted-level-3: chocolate;\n",
              "  /* Definition of color scheme for fitted estimators */\n",
              "  --sklearn-color-fitted-level-0: #f0f8ff;\n",
              "  --sklearn-color-fitted-level-1: #d4ebff;\n",
              "  --sklearn-color-fitted-level-2: #b3dbfd;\n",
              "  --sklearn-color-fitted-level-3: cornflowerblue;\n",
              "\n",
              "  /* Specific color for light theme */\n",
              "  --sklearn-color-text-on-default-background: var(--sg-text-color, var(--theme-code-foreground, var(--jp-content-font-color1, black)));\n",
              "  --sklearn-color-background: var(--sg-background-color, var(--theme-background, var(--jp-layout-color0, white)));\n",
              "  --sklearn-color-border-box: var(--sg-text-color, var(--theme-code-foreground, var(--jp-content-font-color1, black)));\n",
              "  --sklearn-color-icon: #696969;\n",
              "\n",
              "  @media (prefers-color-scheme: dark) {\n",
              "    /* Redefinition of color scheme for dark theme */\n",
              "    --sklearn-color-text-on-default-background: var(--sg-text-color, var(--theme-code-foreground, var(--jp-content-font-color1, white)));\n",
              "    --sklearn-color-background: var(--sg-background-color, var(--theme-background, var(--jp-layout-color0, #111)));\n",
              "    --sklearn-color-border-box: var(--sg-text-color, var(--theme-code-foreground, var(--jp-content-font-color1, white)));\n",
              "    --sklearn-color-icon: #878787;\n",
              "  }\n",
              "}\n",
              "\n",
              "#sk-container-id-1 {\n",
              "  color: var(--sklearn-color-text);\n",
              "}\n",
              "\n",
              "#sk-container-id-1 pre {\n",
              "  padding: 0;\n",
              "}\n",
              "\n",
              "#sk-container-id-1 input.sk-hidden--visually {\n",
              "  border: 0;\n",
              "  clip: rect(1px 1px 1px 1px);\n",
              "  clip: rect(1px, 1px, 1px, 1px);\n",
              "  height: 1px;\n",
              "  margin: -1px;\n",
              "  overflow: hidden;\n",
              "  padding: 0;\n",
              "  position: absolute;\n",
              "  width: 1px;\n",
              "}\n",
              "\n",
              "#sk-container-id-1 div.sk-dashed-wrapped {\n",
              "  border: 1px dashed var(--sklearn-color-line);\n",
              "  margin: 0 0.4em 0.5em 0.4em;\n",
              "  box-sizing: border-box;\n",
              "  padding-bottom: 0.4em;\n",
              "  background-color: var(--sklearn-color-background);\n",
              "}\n",
              "\n",
              "#sk-container-id-1 div.sk-container {\n",
              "  /* jupyter's `normalize.less` sets `[hidden] { display: none; }`\n",
              "     but bootstrap.min.css set `[hidden] { display: none !important; }`\n",
              "     so we also need the `!important` here to be able to override the\n",
              "     default hidden behavior on the sphinx rendered scikit-learn.org.\n",
              "     See: https://github.com/scikit-learn/scikit-learn/issues/21755 */\n",
              "  display: inline-block !important;\n",
              "  position: relative;\n",
              "}\n",
              "\n",
              "#sk-container-id-1 div.sk-text-repr-fallback {\n",
              "  display: none;\n",
              "}\n",
              "\n",
              "div.sk-parallel-item,\n",
              "div.sk-serial,\n",
              "div.sk-item {\n",
              "  /* draw centered vertical line to link estimators */\n",
              "  background-image: linear-gradient(var(--sklearn-color-text-on-default-background), var(--sklearn-color-text-on-default-background));\n",
              "  background-size: 2px 100%;\n",
              "  background-repeat: no-repeat;\n",
              "  background-position: center center;\n",
              "}\n",
              "\n",
              "/* Parallel-specific style estimator block */\n",
              "\n",
              "#sk-container-id-1 div.sk-parallel-item::after {\n",
              "  content: \"\";\n",
              "  width: 100%;\n",
              "  border-bottom: 2px solid var(--sklearn-color-text-on-default-background);\n",
              "  flex-grow: 1;\n",
              "}\n",
              "\n",
              "#sk-container-id-1 div.sk-parallel {\n",
              "  display: flex;\n",
              "  align-items: stretch;\n",
              "  justify-content: center;\n",
              "  background-color: var(--sklearn-color-background);\n",
              "  position: relative;\n",
              "}\n",
              "\n",
              "#sk-container-id-1 div.sk-parallel-item {\n",
              "  display: flex;\n",
              "  flex-direction: column;\n",
              "}\n",
              "\n",
              "#sk-container-id-1 div.sk-parallel-item:first-child::after {\n",
              "  align-self: flex-end;\n",
              "  width: 50%;\n",
              "}\n",
              "\n",
              "#sk-container-id-1 div.sk-parallel-item:last-child::after {\n",
              "  align-self: flex-start;\n",
              "  width: 50%;\n",
              "}\n",
              "\n",
              "#sk-container-id-1 div.sk-parallel-item:only-child::after {\n",
              "  width: 0;\n",
              "}\n",
              "\n",
              "/* Serial-specific style estimator block */\n",
              "\n",
              "#sk-container-id-1 div.sk-serial {\n",
              "  display: flex;\n",
              "  flex-direction: column;\n",
              "  align-items: center;\n",
              "  background-color: var(--sklearn-color-background);\n",
              "  padding-right: 1em;\n",
              "  padding-left: 1em;\n",
              "}\n",
              "\n",
              "\n",
              "/* Toggleable style: style used for estimator/Pipeline/ColumnTransformer box that is\n",
              "clickable and can be expanded/collapsed.\n",
              "- Pipeline and ColumnTransformer use this feature and define the default style\n",
              "- Estimators will overwrite some part of the style using the `sk-estimator` class\n",
              "*/\n",
              "\n",
              "/* Pipeline and ColumnTransformer style (default) */\n",
              "\n",
              "#sk-container-id-1 div.sk-toggleable {\n",
              "  /* Default theme specific background. It is overwritten whether we have a\n",
              "  specific estimator or a Pipeline/ColumnTransformer */\n",
              "  background-color: var(--sklearn-color-background);\n",
              "}\n",
              "\n",
              "/* Toggleable label */\n",
              "#sk-container-id-1 label.sk-toggleable__label {\n",
              "  cursor: pointer;\n",
              "  display: block;\n",
              "  width: 100%;\n",
              "  margin-bottom: 0;\n",
              "  padding: 0.5em;\n",
              "  box-sizing: border-box;\n",
              "  text-align: center;\n",
              "}\n",
              "\n",
              "#sk-container-id-1 label.sk-toggleable__label-arrow:before {\n",
              "  /* Arrow on the left of the label */\n",
              "  content: \"▸\";\n",
              "  float: left;\n",
              "  margin-right: 0.25em;\n",
              "  color: var(--sklearn-color-icon);\n",
              "}\n",
              "\n",
              "#sk-container-id-1 label.sk-toggleable__label-arrow:hover:before {\n",
              "  color: var(--sklearn-color-text);\n",
              "}\n",
              "\n",
              "/* Toggleable content - dropdown */\n",
              "\n",
              "#sk-container-id-1 div.sk-toggleable__content {\n",
              "  max-height: 0;\n",
              "  max-width: 0;\n",
              "  overflow: hidden;\n",
              "  text-align: left;\n",
              "  /* unfitted */\n",
              "  background-color: var(--sklearn-color-unfitted-level-0);\n",
              "}\n",
              "\n",
              "#sk-container-id-1 div.sk-toggleable__content.fitted {\n",
              "  /* fitted */\n",
              "  background-color: var(--sklearn-color-fitted-level-0);\n",
              "}\n",
              "\n",
              "#sk-container-id-1 div.sk-toggleable__content pre {\n",
              "  margin: 0.2em;\n",
              "  border-radius: 0.25em;\n",
              "  color: var(--sklearn-color-text);\n",
              "  /* unfitted */\n",
              "  background-color: var(--sklearn-color-unfitted-level-0);\n",
              "}\n",
              "\n",
              "#sk-container-id-1 div.sk-toggleable__content.fitted pre {\n",
              "  /* unfitted */\n",
              "  background-color: var(--sklearn-color-fitted-level-0);\n",
              "}\n",
              "\n",
              "#sk-container-id-1 input.sk-toggleable__control:checked~div.sk-toggleable__content {\n",
              "  /* Expand drop-down */\n",
              "  max-height: 200px;\n",
              "  max-width: 100%;\n",
              "  overflow: auto;\n",
              "}\n",
              "\n",
              "#sk-container-id-1 input.sk-toggleable__control:checked~label.sk-toggleable__label-arrow:before {\n",
              "  content: \"▾\";\n",
              "}\n",
              "\n",
              "/* Pipeline/ColumnTransformer-specific style */\n",
              "\n",
              "#sk-container-id-1 div.sk-label input.sk-toggleable__control:checked~label.sk-toggleable__label {\n",
              "  color: var(--sklearn-color-text);\n",
              "  background-color: var(--sklearn-color-unfitted-level-2);\n",
              "}\n",
              "\n",
              "#sk-container-id-1 div.sk-label.fitted input.sk-toggleable__control:checked~label.sk-toggleable__label {\n",
              "  background-color: var(--sklearn-color-fitted-level-2);\n",
              "}\n",
              "\n",
              "/* Estimator-specific style */\n",
              "\n",
              "/* Colorize estimator box */\n",
              "#sk-container-id-1 div.sk-estimator input.sk-toggleable__control:checked~label.sk-toggleable__label {\n",
              "  /* unfitted */\n",
              "  background-color: var(--sklearn-color-unfitted-level-2);\n",
              "}\n",
              "\n",
              "#sk-container-id-1 div.sk-estimator.fitted input.sk-toggleable__control:checked~label.sk-toggleable__label {\n",
              "  /* fitted */\n",
              "  background-color: var(--sklearn-color-fitted-level-2);\n",
              "}\n",
              "\n",
              "#sk-container-id-1 div.sk-label label.sk-toggleable__label,\n",
              "#sk-container-id-1 div.sk-label label {\n",
              "  /* The background is the default theme color */\n",
              "  color: var(--sklearn-color-text-on-default-background);\n",
              "}\n",
              "\n",
              "/* On hover, darken the color of the background */\n",
              "#sk-container-id-1 div.sk-label:hover label.sk-toggleable__label {\n",
              "  color: var(--sklearn-color-text);\n",
              "  background-color: var(--sklearn-color-unfitted-level-2);\n",
              "}\n",
              "\n",
              "/* Label box, darken color on hover, fitted */\n",
              "#sk-container-id-1 div.sk-label.fitted:hover label.sk-toggleable__label.fitted {\n",
              "  color: var(--sklearn-color-text);\n",
              "  background-color: var(--sklearn-color-fitted-level-2);\n",
              "}\n",
              "\n",
              "/* Estimator label */\n",
              "\n",
              "#sk-container-id-1 div.sk-label label {\n",
              "  font-family: monospace;\n",
              "  font-weight: bold;\n",
              "  display: inline-block;\n",
              "  line-height: 1.2em;\n",
              "}\n",
              "\n",
              "#sk-container-id-1 div.sk-label-container {\n",
              "  text-align: center;\n",
              "}\n",
              "\n",
              "/* Estimator-specific */\n",
              "#sk-container-id-1 div.sk-estimator {\n",
              "  font-family: monospace;\n",
              "  border: 1px dotted var(--sklearn-color-border-box);\n",
              "  border-radius: 0.25em;\n",
              "  box-sizing: border-box;\n",
              "  margin-bottom: 0.5em;\n",
              "  /* unfitted */\n",
              "  background-color: var(--sklearn-color-unfitted-level-0);\n",
              "}\n",
              "\n",
              "#sk-container-id-1 div.sk-estimator.fitted {\n",
              "  /* fitted */\n",
              "  background-color: var(--sklearn-color-fitted-level-0);\n",
              "}\n",
              "\n",
              "/* on hover */\n",
              "#sk-container-id-1 div.sk-estimator:hover {\n",
              "  /* unfitted */\n",
              "  background-color: var(--sklearn-color-unfitted-level-2);\n",
              "}\n",
              "\n",
              "#sk-container-id-1 div.sk-estimator.fitted:hover {\n",
              "  /* fitted */\n",
              "  background-color: var(--sklearn-color-fitted-level-2);\n",
              "}\n",
              "\n",
              "/* Specification for estimator info (e.g. \"i\" and \"?\") */\n",
              "\n",
              "/* Common style for \"i\" and \"?\" */\n",
              "\n",
              ".sk-estimator-doc-link,\n",
              "a:link.sk-estimator-doc-link,\n",
              "a:visited.sk-estimator-doc-link {\n",
              "  float: right;\n",
              "  font-size: smaller;\n",
              "  line-height: 1em;\n",
              "  font-family: monospace;\n",
              "  background-color: var(--sklearn-color-background);\n",
              "  border-radius: 1em;\n",
              "  height: 1em;\n",
              "  width: 1em;\n",
              "  text-decoration: none !important;\n",
              "  margin-left: 1ex;\n",
              "  /* unfitted */\n",
              "  border: var(--sklearn-color-unfitted-level-1) 1pt solid;\n",
              "  color: var(--sklearn-color-unfitted-level-1);\n",
              "}\n",
              "\n",
              ".sk-estimator-doc-link.fitted,\n",
              "a:link.sk-estimator-doc-link.fitted,\n",
              "a:visited.sk-estimator-doc-link.fitted {\n",
              "  /* fitted */\n",
              "  border: var(--sklearn-color-fitted-level-1) 1pt solid;\n",
              "  color: var(--sklearn-color-fitted-level-1);\n",
              "}\n",
              "\n",
              "/* On hover */\n",
              "div.sk-estimator:hover .sk-estimator-doc-link:hover,\n",
              ".sk-estimator-doc-link:hover,\n",
              "div.sk-label-container:hover .sk-estimator-doc-link:hover,\n",
              ".sk-estimator-doc-link:hover {\n",
              "  /* unfitted */\n",
              "  background-color: var(--sklearn-color-unfitted-level-3);\n",
              "  color: var(--sklearn-color-background);\n",
              "  text-decoration: none;\n",
              "}\n",
              "\n",
              "div.sk-estimator.fitted:hover .sk-estimator-doc-link.fitted:hover,\n",
              ".sk-estimator-doc-link.fitted:hover,\n",
              "div.sk-label-container:hover .sk-estimator-doc-link.fitted:hover,\n",
              ".sk-estimator-doc-link.fitted:hover {\n",
              "  /* fitted */\n",
              "  background-color: var(--sklearn-color-fitted-level-3);\n",
              "  color: var(--sklearn-color-background);\n",
              "  text-decoration: none;\n",
              "}\n",
              "\n",
              "/* Span, style for the box shown on hovering the info icon */\n",
              ".sk-estimator-doc-link span {\n",
              "  display: none;\n",
              "  z-index: 9999;\n",
              "  position: relative;\n",
              "  font-weight: normal;\n",
              "  right: .2ex;\n",
              "  padding: .5ex;\n",
              "  margin: .5ex;\n",
              "  width: min-content;\n",
              "  min-width: 20ex;\n",
              "  max-width: 50ex;\n",
              "  color: var(--sklearn-color-text);\n",
              "  box-shadow: 2pt 2pt 4pt #999;\n",
              "  /* unfitted */\n",
              "  background: var(--sklearn-color-unfitted-level-0);\n",
              "  border: .5pt solid var(--sklearn-color-unfitted-level-3);\n",
              "}\n",
              "\n",
              ".sk-estimator-doc-link.fitted span {\n",
              "  /* fitted */\n",
              "  background: var(--sklearn-color-fitted-level-0);\n",
              "  border: var(--sklearn-color-fitted-level-3);\n",
              "}\n",
              "\n",
              ".sk-estimator-doc-link:hover span {\n",
              "  display: block;\n",
              "}\n",
              "\n",
              "/* \"?\"-specific style due to the `<a>` HTML tag */\n",
              "\n",
              "#sk-container-id-1 a.estimator_doc_link {\n",
              "  float: right;\n",
              "  font-size: 1rem;\n",
              "  line-height: 1em;\n",
              "  font-family: monospace;\n",
              "  background-color: var(--sklearn-color-background);\n",
              "  border-radius: 1rem;\n",
              "  height: 1rem;\n",
              "  width: 1rem;\n",
              "  text-decoration: none;\n",
              "  /* unfitted */\n",
              "  color: var(--sklearn-color-unfitted-level-1);\n",
              "  border: var(--sklearn-color-unfitted-level-1) 1pt solid;\n",
              "}\n",
              "\n",
              "#sk-container-id-1 a.estimator_doc_link.fitted {\n",
              "  /* fitted */\n",
              "  border: var(--sklearn-color-fitted-level-1) 1pt solid;\n",
              "  color: var(--sklearn-color-fitted-level-1);\n",
              "}\n",
              "\n",
              "/* On hover */\n",
              "#sk-container-id-1 a.estimator_doc_link:hover {\n",
              "  /* unfitted */\n",
              "  background-color: var(--sklearn-color-unfitted-level-3);\n",
              "  color: var(--sklearn-color-background);\n",
              "  text-decoration: none;\n",
              "}\n",
              "\n",
              "#sk-container-id-1 a.estimator_doc_link.fitted:hover {\n",
              "  /* fitted */\n",
              "  background-color: var(--sklearn-color-fitted-level-3);\n",
              "}\n",
              "</style><div id=\"sk-container-id-1\" class=\"sk-top-container\"><div class=\"sk-text-repr-fallback\"><pre>SVC(kernel=&#x27;linear&#x27;)</pre><b>In a Jupyter environment, please rerun this cell to show the HTML representation or trust the notebook. <br />On GitHub, the HTML representation is unable to render, please try loading this page with nbviewer.org.</b></div><div class=\"sk-container\" hidden><div class=\"sk-item\"><div class=\"sk-estimator fitted sk-toggleable\"><input class=\"sk-toggleable__control sk-hidden--visually\" id=\"sk-estimator-id-1\" type=\"checkbox\" checked><label for=\"sk-estimator-id-1\" class=\"sk-toggleable__label fitted sk-toggleable__label-arrow fitted\">&nbsp;&nbsp;SVC<a class=\"sk-estimator-doc-link fitted\" rel=\"noreferrer\" target=\"_blank\" href=\"https://scikit-learn.org/1.4/modules/generated/sklearn.svm.SVC.html\">?<span>Documentation for SVC</span></a><span class=\"sk-estimator-doc-link fitted\">i<span>Fitted</span></span></label><div class=\"sk-toggleable__content fitted\"><pre>SVC(kernel=&#x27;linear&#x27;)</pre></div> </div></div></div></div>"
            ],
            "text/plain": [
              "SVC(kernel='linear')"
            ]
          },
          "execution_count": 23,
          "metadata": {},
          "output_type": "execute_result"
        }
      ],
      "source": [
        "model.fit(X_train, Y_train)"
      ]
    },
    {
      "cell_type": "markdown",
      "id": "3ad051ad-c87f-475d-b281-94fa985d3371",
      "metadata": {
        "id": "3ad051ad-c87f-475d-b281-94fa985d3371"
      },
      "source": [
        "3. Repeat Task A3.3.c by using another classification algorithm such as Decision\n",
        "Tree or Random Forest algorithms instead of SVM."
      ]
    },
    {
      "cell_type": "code",
      "execution_count": null,
      "id": "2a03b334-a9d2-4298-a99f-c1b3f984031b",
      "metadata": {
        "id": "2a03b334-a9d2-4298-a99f-c1b3f984031b",
        "outputId": "236fd3c0-eb53-48e0-ff63-c5cb25ae0ca9"
      },
      "outputs": [
        {
          "data": {
            "text/html": [
              "<style>#sk-container-id-3 {\n",
              "  /* Definition of color scheme common for light and dark mode */\n",
              "  --sklearn-color-text: black;\n",
              "  --sklearn-color-line: gray;\n",
              "  /* Definition of color scheme for unfitted estimators */\n",
              "  --sklearn-color-unfitted-level-0: #fff5e6;\n",
              "  --sklearn-color-unfitted-level-1: #f6e4d2;\n",
              "  --sklearn-color-unfitted-level-2: #ffe0b3;\n",
              "  --sklearn-color-unfitted-level-3: chocolate;\n",
              "  /* Definition of color scheme for fitted estimators */\n",
              "  --sklearn-color-fitted-level-0: #f0f8ff;\n",
              "  --sklearn-color-fitted-level-1: #d4ebff;\n",
              "  --sklearn-color-fitted-level-2: #b3dbfd;\n",
              "  --sklearn-color-fitted-level-3: cornflowerblue;\n",
              "\n",
              "  /* Specific color for light theme */\n",
              "  --sklearn-color-text-on-default-background: var(--sg-text-color, var(--theme-code-foreground, var(--jp-content-font-color1, black)));\n",
              "  --sklearn-color-background: var(--sg-background-color, var(--theme-background, var(--jp-layout-color0, white)));\n",
              "  --sklearn-color-border-box: var(--sg-text-color, var(--theme-code-foreground, var(--jp-content-font-color1, black)));\n",
              "  --sklearn-color-icon: #696969;\n",
              "\n",
              "  @media (prefers-color-scheme: dark) {\n",
              "    /* Redefinition of color scheme for dark theme */\n",
              "    --sklearn-color-text-on-default-background: var(--sg-text-color, var(--theme-code-foreground, var(--jp-content-font-color1, white)));\n",
              "    --sklearn-color-background: var(--sg-background-color, var(--theme-background, var(--jp-layout-color0, #111)));\n",
              "    --sklearn-color-border-box: var(--sg-text-color, var(--theme-code-foreground, var(--jp-content-font-color1, white)));\n",
              "    --sklearn-color-icon: #878787;\n",
              "  }\n",
              "}\n",
              "\n",
              "#sk-container-id-3 {\n",
              "  color: var(--sklearn-color-text);\n",
              "}\n",
              "\n",
              "#sk-container-id-3 pre {\n",
              "  padding: 0;\n",
              "}\n",
              "\n",
              "#sk-container-id-3 input.sk-hidden--visually {\n",
              "  border: 0;\n",
              "  clip: rect(1px 1px 1px 1px);\n",
              "  clip: rect(1px, 1px, 1px, 1px);\n",
              "  height: 1px;\n",
              "  margin: -1px;\n",
              "  overflow: hidden;\n",
              "  padding: 0;\n",
              "  position: absolute;\n",
              "  width: 1px;\n",
              "}\n",
              "\n",
              "#sk-container-id-3 div.sk-dashed-wrapped {\n",
              "  border: 1px dashed var(--sklearn-color-line);\n",
              "  margin: 0 0.4em 0.5em 0.4em;\n",
              "  box-sizing: border-box;\n",
              "  padding-bottom: 0.4em;\n",
              "  background-color: var(--sklearn-color-background);\n",
              "}\n",
              "\n",
              "#sk-container-id-3 div.sk-container {\n",
              "  /* jupyter's `normalize.less` sets `[hidden] { display: none; }`\n",
              "     but bootstrap.min.css set `[hidden] { display: none !important; }`\n",
              "     so we also need the `!important` here to be able to override the\n",
              "     default hidden behavior on the sphinx rendered scikit-learn.org.\n",
              "     See: https://github.com/scikit-learn/scikit-learn/issues/21755 */\n",
              "  display: inline-block !important;\n",
              "  position: relative;\n",
              "}\n",
              "\n",
              "#sk-container-id-3 div.sk-text-repr-fallback {\n",
              "  display: none;\n",
              "}\n",
              "\n",
              "div.sk-parallel-item,\n",
              "div.sk-serial,\n",
              "div.sk-item {\n",
              "  /* draw centered vertical line to link estimators */\n",
              "  background-image: linear-gradient(var(--sklearn-color-text-on-default-background), var(--sklearn-color-text-on-default-background));\n",
              "  background-size: 2px 100%;\n",
              "  background-repeat: no-repeat;\n",
              "  background-position: center center;\n",
              "}\n",
              "\n",
              "/* Parallel-specific style estimator block */\n",
              "\n",
              "#sk-container-id-3 div.sk-parallel-item::after {\n",
              "  content: \"\";\n",
              "  width: 100%;\n",
              "  border-bottom: 2px solid var(--sklearn-color-text-on-default-background);\n",
              "  flex-grow: 1;\n",
              "}\n",
              "\n",
              "#sk-container-id-3 div.sk-parallel {\n",
              "  display: flex;\n",
              "  align-items: stretch;\n",
              "  justify-content: center;\n",
              "  background-color: var(--sklearn-color-background);\n",
              "  position: relative;\n",
              "}\n",
              "\n",
              "#sk-container-id-3 div.sk-parallel-item {\n",
              "  display: flex;\n",
              "  flex-direction: column;\n",
              "}\n",
              "\n",
              "#sk-container-id-3 div.sk-parallel-item:first-child::after {\n",
              "  align-self: flex-end;\n",
              "  width: 50%;\n",
              "}\n",
              "\n",
              "#sk-container-id-3 div.sk-parallel-item:last-child::after {\n",
              "  align-self: flex-start;\n",
              "  width: 50%;\n",
              "}\n",
              "\n",
              "#sk-container-id-3 div.sk-parallel-item:only-child::after {\n",
              "  width: 0;\n",
              "}\n",
              "\n",
              "/* Serial-specific style estimator block */\n",
              "\n",
              "#sk-container-id-3 div.sk-serial {\n",
              "  display: flex;\n",
              "  flex-direction: column;\n",
              "  align-items: center;\n",
              "  background-color: var(--sklearn-color-background);\n",
              "  padding-right: 1em;\n",
              "  padding-left: 1em;\n",
              "}\n",
              "\n",
              "\n",
              "/* Toggleable style: style used for estimator/Pipeline/ColumnTransformer box that is\n",
              "clickable and can be expanded/collapsed.\n",
              "- Pipeline and ColumnTransformer use this feature and define the default style\n",
              "- Estimators will overwrite some part of the style using the `sk-estimator` class\n",
              "*/\n",
              "\n",
              "/* Pipeline and ColumnTransformer style (default) */\n",
              "\n",
              "#sk-container-id-3 div.sk-toggleable {\n",
              "  /* Default theme specific background. It is overwritten whether we have a\n",
              "  specific estimator or a Pipeline/ColumnTransformer */\n",
              "  background-color: var(--sklearn-color-background);\n",
              "}\n",
              "\n",
              "/* Toggleable label */\n",
              "#sk-container-id-3 label.sk-toggleable__label {\n",
              "  cursor: pointer;\n",
              "  display: block;\n",
              "  width: 100%;\n",
              "  margin-bottom: 0;\n",
              "  padding: 0.5em;\n",
              "  box-sizing: border-box;\n",
              "  text-align: center;\n",
              "}\n",
              "\n",
              "#sk-container-id-3 label.sk-toggleable__label-arrow:before {\n",
              "  /* Arrow on the left of the label */\n",
              "  content: \"▸\";\n",
              "  float: left;\n",
              "  margin-right: 0.25em;\n",
              "  color: var(--sklearn-color-icon);\n",
              "}\n",
              "\n",
              "#sk-container-id-3 label.sk-toggleable__label-arrow:hover:before {\n",
              "  color: var(--sklearn-color-text);\n",
              "}\n",
              "\n",
              "/* Toggleable content - dropdown */\n",
              "\n",
              "#sk-container-id-3 div.sk-toggleable__content {\n",
              "  max-height: 0;\n",
              "  max-width: 0;\n",
              "  overflow: hidden;\n",
              "  text-align: left;\n",
              "  /* unfitted */\n",
              "  background-color: var(--sklearn-color-unfitted-level-0);\n",
              "}\n",
              "\n",
              "#sk-container-id-3 div.sk-toggleable__content.fitted {\n",
              "  /* fitted */\n",
              "  background-color: var(--sklearn-color-fitted-level-0);\n",
              "}\n",
              "\n",
              "#sk-container-id-3 div.sk-toggleable__content pre {\n",
              "  margin: 0.2em;\n",
              "  border-radius: 0.25em;\n",
              "  color: var(--sklearn-color-text);\n",
              "  /* unfitted */\n",
              "  background-color: var(--sklearn-color-unfitted-level-0);\n",
              "}\n",
              "\n",
              "#sk-container-id-3 div.sk-toggleable__content.fitted pre {\n",
              "  /* unfitted */\n",
              "  background-color: var(--sklearn-color-fitted-level-0);\n",
              "}\n",
              "\n",
              "#sk-container-id-3 input.sk-toggleable__control:checked~div.sk-toggleable__content {\n",
              "  /* Expand drop-down */\n",
              "  max-height: 200px;\n",
              "  max-width: 100%;\n",
              "  overflow: auto;\n",
              "}\n",
              "\n",
              "#sk-container-id-3 input.sk-toggleable__control:checked~label.sk-toggleable__label-arrow:before {\n",
              "  content: \"▾\";\n",
              "}\n",
              "\n",
              "/* Pipeline/ColumnTransformer-specific style */\n",
              "\n",
              "#sk-container-id-3 div.sk-label input.sk-toggleable__control:checked~label.sk-toggleable__label {\n",
              "  color: var(--sklearn-color-text);\n",
              "  background-color: var(--sklearn-color-unfitted-level-2);\n",
              "}\n",
              "\n",
              "#sk-container-id-3 div.sk-label.fitted input.sk-toggleable__control:checked~label.sk-toggleable__label {\n",
              "  background-color: var(--sklearn-color-fitted-level-2);\n",
              "}\n",
              "\n",
              "/* Estimator-specific style */\n",
              "\n",
              "/* Colorize estimator box */\n",
              "#sk-container-id-3 div.sk-estimator input.sk-toggleable__control:checked~label.sk-toggleable__label {\n",
              "  /* unfitted */\n",
              "  background-color: var(--sklearn-color-unfitted-level-2);\n",
              "}\n",
              "\n",
              "#sk-container-id-3 div.sk-estimator.fitted input.sk-toggleable__control:checked~label.sk-toggleable__label {\n",
              "  /* fitted */\n",
              "  background-color: var(--sklearn-color-fitted-level-2);\n",
              "}\n",
              "\n",
              "#sk-container-id-3 div.sk-label label.sk-toggleable__label,\n",
              "#sk-container-id-3 div.sk-label label {\n",
              "  /* The background is the default theme color */\n",
              "  color: var(--sklearn-color-text-on-default-background);\n",
              "}\n",
              "\n",
              "/* On hover, darken the color of the background */\n",
              "#sk-container-id-3 div.sk-label:hover label.sk-toggleable__label {\n",
              "  color: var(--sklearn-color-text);\n",
              "  background-color: var(--sklearn-color-unfitted-level-2);\n",
              "}\n",
              "\n",
              "/* Label box, darken color on hover, fitted */\n",
              "#sk-container-id-3 div.sk-label.fitted:hover label.sk-toggleable__label.fitted {\n",
              "  color: var(--sklearn-color-text);\n",
              "  background-color: var(--sklearn-color-fitted-level-2);\n",
              "}\n",
              "\n",
              "/* Estimator label */\n",
              "\n",
              "#sk-container-id-3 div.sk-label label {\n",
              "  font-family: monospace;\n",
              "  font-weight: bold;\n",
              "  display: inline-block;\n",
              "  line-height: 1.2em;\n",
              "}\n",
              "\n",
              "#sk-container-id-3 div.sk-label-container {\n",
              "  text-align: center;\n",
              "}\n",
              "\n",
              "/* Estimator-specific */\n",
              "#sk-container-id-3 div.sk-estimator {\n",
              "  font-family: monospace;\n",
              "  border: 1px dotted var(--sklearn-color-border-box);\n",
              "  border-radius: 0.25em;\n",
              "  box-sizing: border-box;\n",
              "  margin-bottom: 0.5em;\n",
              "  /* unfitted */\n",
              "  background-color: var(--sklearn-color-unfitted-level-0);\n",
              "}\n",
              "\n",
              "#sk-container-id-3 div.sk-estimator.fitted {\n",
              "  /* fitted */\n",
              "  background-color: var(--sklearn-color-fitted-level-0);\n",
              "}\n",
              "\n",
              "/* on hover */\n",
              "#sk-container-id-3 div.sk-estimator:hover {\n",
              "  /* unfitted */\n",
              "  background-color: var(--sklearn-color-unfitted-level-2);\n",
              "}\n",
              "\n",
              "#sk-container-id-3 div.sk-estimator.fitted:hover {\n",
              "  /* fitted */\n",
              "  background-color: var(--sklearn-color-fitted-level-2);\n",
              "}\n",
              "\n",
              "/* Specification for estimator info (e.g. \"i\" and \"?\") */\n",
              "\n",
              "/* Common style for \"i\" and \"?\" */\n",
              "\n",
              ".sk-estimator-doc-link,\n",
              "a:link.sk-estimator-doc-link,\n",
              "a:visited.sk-estimator-doc-link {\n",
              "  float: right;\n",
              "  font-size: smaller;\n",
              "  line-height: 1em;\n",
              "  font-family: monospace;\n",
              "  background-color: var(--sklearn-color-background);\n",
              "  border-radius: 1em;\n",
              "  height: 1em;\n",
              "  width: 1em;\n",
              "  text-decoration: none !important;\n",
              "  margin-left: 1ex;\n",
              "  /* unfitted */\n",
              "  border: var(--sklearn-color-unfitted-level-1) 1pt solid;\n",
              "  color: var(--sklearn-color-unfitted-level-1);\n",
              "}\n",
              "\n",
              ".sk-estimator-doc-link.fitted,\n",
              "a:link.sk-estimator-doc-link.fitted,\n",
              "a:visited.sk-estimator-doc-link.fitted {\n",
              "  /* fitted */\n",
              "  border: var(--sklearn-color-fitted-level-1) 1pt solid;\n",
              "  color: var(--sklearn-color-fitted-level-1);\n",
              "}\n",
              "\n",
              "/* On hover */\n",
              "div.sk-estimator:hover .sk-estimator-doc-link:hover,\n",
              ".sk-estimator-doc-link:hover,\n",
              "div.sk-label-container:hover .sk-estimator-doc-link:hover,\n",
              ".sk-estimator-doc-link:hover {\n",
              "  /* unfitted */\n",
              "  background-color: var(--sklearn-color-unfitted-level-3);\n",
              "  color: var(--sklearn-color-background);\n",
              "  text-decoration: none;\n",
              "}\n",
              "\n",
              "div.sk-estimator.fitted:hover .sk-estimator-doc-link.fitted:hover,\n",
              ".sk-estimator-doc-link.fitted:hover,\n",
              "div.sk-label-container:hover .sk-estimator-doc-link.fitted:hover,\n",
              ".sk-estimator-doc-link.fitted:hover {\n",
              "  /* fitted */\n",
              "  background-color: var(--sklearn-color-fitted-level-3);\n",
              "  color: var(--sklearn-color-background);\n",
              "  text-decoration: none;\n",
              "}\n",
              "\n",
              "/* Span, style for the box shown on hovering the info icon */\n",
              ".sk-estimator-doc-link span {\n",
              "  display: none;\n",
              "  z-index: 9999;\n",
              "  position: relative;\n",
              "  font-weight: normal;\n",
              "  right: .2ex;\n",
              "  padding: .5ex;\n",
              "  margin: .5ex;\n",
              "  width: min-content;\n",
              "  min-width: 20ex;\n",
              "  max-width: 50ex;\n",
              "  color: var(--sklearn-color-text);\n",
              "  box-shadow: 2pt 2pt 4pt #999;\n",
              "  /* unfitted */\n",
              "  background: var(--sklearn-color-unfitted-level-0);\n",
              "  border: .5pt solid var(--sklearn-color-unfitted-level-3);\n",
              "}\n",
              "\n",
              ".sk-estimator-doc-link.fitted span {\n",
              "  /* fitted */\n",
              "  background: var(--sklearn-color-fitted-level-0);\n",
              "  border: var(--sklearn-color-fitted-level-3);\n",
              "}\n",
              "\n",
              ".sk-estimator-doc-link:hover span {\n",
              "  display: block;\n",
              "}\n",
              "\n",
              "/* \"?\"-specific style due to the `<a>` HTML tag */\n",
              "\n",
              "#sk-container-id-3 a.estimator_doc_link {\n",
              "  float: right;\n",
              "  font-size: 1rem;\n",
              "  line-height: 1em;\n",
              "  font-family: monospace;\n",
              "  background-color: var(--sklearn-color-background);\n",
              "  border-radius: 1rem;\n",
              "  height: 1rem;\n",
              "  width: 1rem;\n",
              "  text-decoration: none;\n",
              "  /* unfitted */\n",
              "  color: var(--sklearn-color-unfitted-level-1);\n",
              "  border: var(--sklearn-color-unfitted-level-1) 1pt solid;\n",
              "}\n",
              "\n",
              "#sk-container-id-3 a.estimator_doc_link.fitted {\n",
              "  /* fitted */\n",
              "  border: var(--sklearn-color-fitted-level-1) 1pt solid;\n",
              "  color: var(--sklearn-color-fitted-level-1);\n",
              "}\n",
              "\n",
              "/* On hover */\n",
              "#sk-container-id-3 a.estimator_doc_link:hover {\n",
              "  /* unfitted */\n",
              "  background-color: var(--sklearn-color-unfitted-level-3);\n",
              "  color: var(--sklearn-color-background);\n",
              "  text-decoration: none;\n",
              "}\n",
              "\n",
              "#sk-container-id-3 a.estimator_doc_link.fitted:hover {\n",
              "  /* fitted */\n",
              "  background-color: var(--sklearn-color-fitted-level-3);\n",
              "}\n",
              "</style><div id=\"sk-container-id-3\" class=\"sk-top-container\"><div class=\"sk-text-repr-fallback\"><pre>DecisionTreeClassifier(criterion=&#x27;entropy&#x27;, random_state=0)</pre><b>In a Jupyter environment, please rerun this cell to show the HTML representation or trust the notebook. <br />On GitHub, the HTML representation is unable to render, please try loading this page with nbviewer.org.</b></div><div class=\"sk-container\" hidden><div class=\"sk-item\"><div class=\"sk-estimator fitted sk-toggleable\"><input class=\"sk-toggleable__control sk-hidden--visually\" id=\"sk-estimator-id-3\" type=\"checkbox\" checked><label for=\"sk-estimator-id-3\" class=\"sk-toggleable__label fitted sk-toggleable__label-arrow fitted\">&nbsp;&nbsp;DecisionTreeClassifier<a class=\"sk-estimator-doc-link fitted\" rel=\"noreferrer\" target=\"_blank\" href=\"https://scikit-learn.org/1.4/modules/generated/sklearn.tree.DecisionTreeClassifier.html\">?<span>Documentation for DecisionTreeClassifier</span></a><span class=\"sk-estimator-doc-link fitted\">i<span>Fitted</span></span></label><div class=\"sk-toggleable__content fitted\"><pre>DecisionTreeClassifier(criterion=&#x27;entropy&#x27;, random_state=0)</pre></div> </div></div></div></div>"
            ],
            "text/plain": [
              "DecisionTreeClassifier(criterion='entropy', random_state=0)"
            ]
          },
          "execution_count": 59,
          "metadata": {},
          "output_type": "execute_result"
        }
      ],
      "source": [
        "from sklearn.tree import DecisionTreeClassifier\n",
        "classifier = DecisionTreeClassifier(\n",
        "criterion = 'entropy', random_state = 0\n",
        ")\n",
        "classifier.fit(X_train, Y_train)"
      ]
    },
    {
      "cell_type": "markdown",
      "id": "80e91486-69ec-42fe-bf03-25dad5cb0cae",
      "metadata": {
        "id": "80e91486-69ec-42fe-bf03-25dad5cb0cae"
      },
      "source": [
        "## A4. Classification (prediction) (3 marks)"
      ]
    },
    {
      "cell_type": "markdown",
      "id": "c8a56a51-a579-4aa4-bf28-881a5e9571ca",
      "metadata": {
        "id": "c8a56a51-a579-4aa4-bf28-881a5e9571ca"
      },
      "source": [
        "1. Using the testing dataset you created in Task A2.3 above, conduct the\n",
        "prediction for the ‘GradeClass’ (label) using the two models built by SVM and\n",
        "your other classification algorithm in Task A3.3."
      ]
    },
    {
      "cell_type": "code",
      "execution_count": null,
      "id": "3cba4057-8862-4c48-973c-5a9dfa395270",
      "metadata": {
        "id": "3cba4057-8862-4c48-973c-5a9dfa395270",
        "outputId": "ec3c88db-dcc6-426f-cce7-f3ee13207760"
      },
      "outputs": [
        {
          "data": {
            "text/plain": [
              "array(['F', 'B', 'F', 'F', 'D', 'D', 'F', 'D', 'C', 'C', 'D', 'F', 'B',\n",
              "       'F', 'F', 'C', 'F', 'D', 'F', 'D', 'C', 'F', 'D', 'F', 'D', 'C',\n",
              "       'F', 'F', 'F', 'B', 'F', 'F', 'F', 'F', 'F', 'F', 'F', 'F', 'F',\n",
              "       'F', 'F', 'C', 'C', 'F', 'C', 'D', 'B', 'D', 'F', 'D', 'D', 'F',\n",
              "       'F', 'C', 'F', 'F', 'F', 'F', 'F', 'F', 'C', 'D', 'B', 'F', 'B',\n",
              "       'F', 'C', 'F', 'B', 'F', 'F', 'F', 'D', 'F', 'F', 'B', 'C', 'D',\n",
              "       'F', 'F', 'F', 'C', 'C', 'F', 'D', 'F', 'C', 'F', 'F', 'F', 'B',\n",
              "       'F', 'C', 'F', 'F', 'F', 'D', 'F', 'F', 'D', 'F', 'C', 'F', 'F',\n",
              "       'F', 'F', 'F', 'C', 'B', 'F', 'F', 'F', 'F', 'F', 'F', 'F', 'C',\n",
              "       'B', 'C', 'F', 'C', 'F', 'F', 'F', 'F', 'C', 'C', 'F', 'B', 'F',\n",
              "       'C', 'C', 'D', 'F', 'C', 'D', 'C', 'F', 'C', 'C', 'C', 'C', 'F',\n",
              "       'F', 'F', 'F', 'F', 'D', 'D', 'F', 'C', 'C', 'F', 'F', 'F', 'F',\n",
              "       'F', 'C', 'F', 'F', 'F', 'F', 'F', 'F', 'F', 'F', 'F', 'C', 'F',\n",
              "       'F', 'F', 'C', 'D', 'D', 'B', 'C', 'D', 'F', 'B', 'F', 'F', 'D',\n",
              "       'F', 'F', 'F', 'F', 'C', 'F', 'C', 'F', 'F', 'D', 'F', 'F', 'D',\n",
              "       'C', 'D', 'F', 'D', 'F', 'D', 'D', 'F', 'F', 'D', 'F', 'F', 'F',\n",
              "       'B', 'B', 'F', 'C', 'F', 'B', 'D', 'C', 'C', 'F', 'F', 'F', 'C',\n",
              "       'F', 'B', 'F', 'C', 'D', 'D', 'F', 'B', 'F', 'F', 'D', 'F', 'D',\n",
              "       'F', 'F', 'F', 'B', 'F', 'B', 'F', 'B', 'C', 'F', 'C', 'F', 'D',\n",
              "       'F', 'D', 'F', 'F', 'D', 'B', 'C', 'F', 'B', 'F', 'F', 'F', 'B',\n",
              "       'F', 'B', 'D', 'B', 'F', 'F', 'F', 'F', 'C', 'F', 'C', 'F', 'C',\n",
              "       'F', 'D', 'C', 'F', 'D', 'F', 'B', 'F', 'C', 'B', 'C', 'F', 'F',\n",
              "       'B', 'F', 'F', 'F', 'B', 'F', 'D', 'F', 'F', 'F', 'F', 'F', 'C',\n",
              "       'B', 'F', 'F', 'C', 'B', 'F', 'F', 'D', 'C', 'C', 'F', 'D', 'F',\n",
              "       'F', 'C', 'F', 'B', 'D', 'F', 'F', 'F', 'F', 'C', 'D', 'F', 'F',\n",
              "       'C', 'F', 'D', 'B', 'D', 'F', 'F', 'F', 'F', 'C', 'F', 'F', 'F',\n",
              "       'F', 'D', 'C', 'F', 'C', 'F', 'D', 'D', 'F', 'C', 'F', 'F', 'F',\n",
              "       'F', 'D', 'F', 'D', 'B', 'F', 'D', 'C', 'F', 'C', 'B', 'F', 'F',\n",
              "       'D', 'B', 'C', 'F', 'F', 'D', 'B', 'C', 'F', 'B', 'F', 'B', 'D',\n",
              "       'F', 'D', 'F', 'F', 'F', 'F', 'C', 'F', 'C', 'F', 'C', 'D', 'F',\n",
              "       'F', 'D', 'F', 'F', 'F', 'F', 'B', 'B', 'C', 'B', 'F', 'F', 'C',\n",
              "       'B', 'F', 'F', 'F', 'F', 'C', 'F', 'F', 'C', 'F', 'F', 'F', 'B',\n",
              "       'D', 'F', 'F', 'F'], dtype=object)"
            ]
          },
          "execution_count": 25,
          "metadata": {},
          "output_type": "execute_result"
        }
      ],
      "source": [
        "#Prediction using SVM model (lower case y)\n",
        "y_pred = model.predict(X_test)\n",
        "y_pred"
      ]
    },
    {
      "cell_type": "code",
      "execution_count": null,
      "id": "d68fdbb7-ce94-452e-bcb6-1ab35c49e444",
      "metadata": {
        "id": "d68fdbb7-ce94-452e-bcb6-1ab35c49e444",
        "outputId": "a912de9d-c96a-45c9-f658-bdefd55ada87"
      },
      "outputs": [
        {
          "data": {
            "text/plain": [
              "array(['F', 'A', 'F', 'F', 'D', 'D', 'D', 'D', 'C', 'D', 'C', 'F', 'B',\n",
              "       'F', 'F', 'D', 'F', 'D', 'F', 'D', 'C', 'F', 'C', 'F', 'C', 'B',\n",
              "       'F', 'F', 'F', 'A', 'F', 'F', 'F', 'F', 'F', 'F', 'F', 'F', 'F',\n",
              "       'F', 'F', 'C', 'C', 'F', 'D', 'D', 'B', 'C', 'F', 'D', 'F', 'F',\n",
              "       'F', 'C', 'F', 'F', 'F', 'F', 'F', 'F', 'C', 'C', 'C', 'F', 'C',\n",
              "       'F', 'C', 'F', 'C', 'D', 'F', 'F', 'F', 'F', 'F', 'A', 'C', 'D',\n",
              "       'F', 'D', 'F', 'C', 'C', 'F', 'C', 'F', 'C', 'F', 'F', 'F', 'C',\n",
              "       'F', 'C', 'F', 'F', 'F', 'D', 'F', 'F', 'C', 'F', 'D', 'F', 'D',\n",
              "       'F', 'F', 'F', 'C', 'B', 'F', 'F', 'F', 'F', 'F', 'F', 'F', 'D',\n",
              "       'B', 'B', 'F', 'C', 'F', 'F', 'D', 'F', 'B', 'D', 'F', 'B', 'F',\n",
              "       'C', 'C', 'D', 'F', 'C', 'C', 'C', 'F', 'C', 'C', 'D', 'C', 'F',\n",
              "       'F', 'F', 'F', 'F', 'C', 'D', 'F', 'C', 'D', 'F', 'F', 'F', 'F',\n",
              "       'F', 'C', 'F', 'D', 'F', 'F', 'F', 'F', 'F', 'F', 'D', 'C', 'D',\n",
              "       'F', 'F', 'B', 'F', 'D', 'A', 'D', 'C', 'F', 'B', 'F', 'D', 'D',\n",
              "       'F', 'D', 'F', 'F', 'B', 'F', 'C', 'F', 'F', 'F', 'F', 'F', 'C',\n",
              "       'C', 'D', 'F', 'D', 'F', 'F', 'D', 'F', 'F', 'D', 'F', 'F', 'F',\n",
              "       'B', 'C', 'F', 'C', 'F', 'B', 'D', 'D', 'C', 'D', 'F', 'F', 'D',\n",
              "       'D', 'B', 'F', 'C', 'D', 'F', 'F', 'A', 'F', 'F', 'B', 'F', 'D',\n",
              "       'F', 'F', 'F', 'B', 'F', 'B', 'F', 'D', 'C', 'D', 'C', 'D', 'D',\n",
              "       'F', 'D', 'F', 'F', 'F', 'B', 'C', 'F', 'B', 'F', 'F', 'F', 'B',\n",
              "       'D', 'B', 'C', 'A', 'F', 'F', 'F', 'D', 'C', 'F', 'C', 'F', 'D',\n",
              "       'F', 'D', 'C', 'F', 'F', 'F', 'B', 'F', 'B', 'B', 'D', 'F', 'F',\n",
              "       'A', 'F', 'F', 'F', 'A', 'F', 'D', 'D', 'F', 'F', 'F', 'F', 'C',\n",
              "       'C', 'F', 'F', 'C', 'A', 'F', 'F', 'D', 'D', 'C', 'F', 'D', 'F',\n",
              "       'F', 'C', 'F', 'B', 'C', 'F', 'F', 'F', 'F', 'C', 'D', 'F', 'F',\n",
              "       'D', 'F', 'D', 'B', 'D', 'F', 'F', 'F', 'F', 'C', 'F', 'F', 'D',\n",
              "       'F', 'D', 'C', 'F', 'C', 'F', 'D', 'F', 'F', 'B', 'F', 'F', 'F',\n",
              "       'F', 'F', 'F', 'D', 'C', 'F', 'F', 'C', 'F', 'B', 'B', 'F', 'F',\n",
              "       'D', 'B', 'C', 'F', 'F', 'D', 'B', 'D', 'F', 'B', 'F', 'B', 'F',\n",
              "       'F', 'D', 'F', 'F', 'D', 'F', 'D', 'F', 'D', 'F', 'C', 'D', 'F',\n",
              "       'F', 'D', 'F', 'F', 'F', 'F', 'A', 'B', 'D', 'C', 'F', 'F', 'B',\n",
              "       'A', 'F', 'F', 'F', 'F', 'B', 'F', 'F', 'C', 'F', 'D', 'F', 'A',\n",
              "       'D', 'F', 'D', 'F'], dtype=object)"
            ]
          },
          "execution_count": 26,
          "metadata": {},
          "output_type": "execute_result"
        }
      ],
      "source": [
        "#Prediction using Decision Tree Model (capital Y)\n",
        "Y_pred = classifier.predict(X_test)\n",
        "Y_pred"
      ]
    },
    {
      "cell_type": "markdown",
      "id": "269241e7-af9e-422d-b447-3700191bf75c",
      "metadata": {
        "id": "269241e7-af9e-422d-b447-3700191bf75c"
      },
      "source": [
        "2. Display the confusion matrices for both models (it should look like a 5x5 matrix).\n",
        "Unlike the lectures, where it is just a 2x2, you are now introduced to a multi-class\n",
        "classification problem setting."
      ]
    },
    {
      "cell_type": "code",
      "execution_count": null,
      "id": "e6cb5638-c8a5-42e5-9ebb-50e31a21ced6",
      "metadata": {
        "id": "e6cb5638-c8a5-42e5-9ebb-50e31a21ced6",
        "outputId": "6fc3b79f-274e-492e-bbb7-f3036d221a35"
      },
      "outputs": [
        {
          "data": {
            "text/plain": [
              "array([[  0,  18,   0,   0,   0],\n",
              "       [  0,  19,  23,   1,   0],\n",
              "       [  0,   9,  40,   9,   1],\n",
              "       [  0,   0,  13,  46,  19],\n",
              "       [  0,   0,   0,   8, 214]], dtype=int64)"
            ]
          },
          "execution_count": 27,
          "metadata": {},
          "output_type": "execute_result"
        }
      ],
      "source": [
        "#Confusion matrix of SVM Model\n",
        "cm_svm = confusion_matrix(Y_test, y_pred)\n",
        "cm_svm"
      ]
    },
    {
      "cell_type": "code",
      "execution_count": null,
      "id": "7058c81f-5dee-45d4-b7d1-9b49c248594b",
      "metadata": {
        "id": "7058c81f-5dee-45d4-b7d1-9b49c248594b",
        "outputId": "1c5f32d1-9214-4104-d3c9-13e06d75ab76"
      },
      "outputs": [
        {
          "data": {
            "text/plain": [
              "array([[  8,   8,   2,   0,   0],\n",
              "       [  1,  16,  20,   6,   0],\n",
              "       [  3,  12,  29,  13,   2],\n",
              "       [  0,   0,  16,  43,  19],\n",
              "       [  0,   0,   1,  17, 204]], dtype=int64)"
            ]
          },
          "execution_count": 28,
          "metadata": {},
          "output_type": "execute_result"
        }
      ],
      "source": [
        "#Confusion matrox of Decision Tree Classification Model\n",
        "from sklearn.metrics import confusion_matrix\n",
        "cm_dtc = confusion_matrix(Y_test, Y_pred)\n",
        "cm_dtc"
      ]
    },
    {
      "cell_type": "markdown",
      "id": "e1934425-f2a7-4d99-9b02-ef72e41a9ec9",
      "metadata": {
        "id": "e1934425-f2a7-4d99-9b02-ef72e41a9ec9"
      },
      "source": [
        "3. Compare the performance of SVM and your other classifier and provide your\n",
        "justification on which one performed better."
      ]
    },
    {
      "cell_type": "code",
      "execution_count": null,
      "id": "45637ba4-eeea-4088-a929-bd118277bca4",
      "metadata": {
        "id": "45637ba4-eeea-4088-a929-bd118277bca4",
        "outputId": "c81239ef-9cc5-4fdb-bc93-f1170cffd30a"
      },
      "outputs": [
        {
          "name": "stdout",
          "output_type": "stream",
          "text": [
            "0.7595238095238095 0.7142857142857143\n"
          ]
        }
      ],
      "source": [
        "#Comparing accuracy\n",
        "def find_accuracy(cm):\n",
        "    true_positives = sum(cm[i, i] for i in range(len(cm)))\n",
        "    total_samples = cm.sum()\n",
        "    accuracy = true_positives/total_samples\n",
        "    return accuracy\n",
        "\n",
        "print(find_accuracy(cm_svm),find_accuracy(cm_dtc))"
      ]
    },
    {
      "cell_type": "markdown",
      "id": "f62dd940-4d2e-48da-be72-5cb778dc4c39",
      "metadata": {
        "id": "f62dd940-4d2e-48da-be72-5cb778dc4c39"
      },
      "source": [
        "- from the above comparison in accuracy between the confusion matrix of svm model and decision tree model, the accuracy of svm model is 0.760 while decision tree model is 0.714\n",
        "- The Support Vector Machine (SVM) model has an accuracy of 0.760, which means it correctly classifies 76% of the samples.\n",
        "- The Decision Tree model, on the other hand, has an accuracy of 0.714, meaning it correctly classifies 71.4% of the samples.\n",
        "- The accuracy of svm model is higher than decision tree model which means svm model performs better than decision model.\n",
        "- The SVM model’s higher accuracy suggests it better generalizes to unseen data\n",
        "- However the Decision Tree model’s interpretability might still be a better choice in specific use cases"
      ]
    },
    {
      "cell_type": "markdown",
      "id": "c06174a4-c6b0-4e5f-9948-0dece4fa31fc",
      "metadata": {
        "id": "c06174a4-c6b0-4e5f-9948-0dece4fa31fc"
      },
      "source": [
        "## A5. Independent evaluation (Competition ) (2.5 marks)"
      ]
    },
    {
      "cell_type": "markdown",
      "id": "52d0d942-2669-4752-b0f4-149575b586cf",
      "metadata": {
        "id": "52d0d942-2669-4752-b0f4-149575b586cf"
      },
      "source": [
        "1. Read the Student_List_A2_Submission.csv file and use the best model you\n",
        "built earlier to predict the ‘GradeClass for the students in this file."
      ]
    },
    {
      "cell_type": "code",
      "execution_count": null,
      "id": "5d5946df-73f8-473d-8516-faaf63e40083",
      "metadata": {
        "id": "5d5946df-73f8-473d-8516-faaf63e40083",
        "outputId": "986f3bd8-5cfe-49be-f346-2bf40bafa38d"
      },
      "outputs": [
        {
          "data": {
            "text/html": [
              "<div>\n",
              "<style scoped>\n",
              "    .dataframe tbody tr th:only-of-type {\n",
              "        vertical-align: middle;\n",
              "    }\n",
              "\n",
              "    .dataframe tbody tr th {\n",
              "        vertical-align: top;\n",
              "    }\n",
              "\n",
              "    .dataframe thead th {\n",
              "        text-align: right;\n",
              "    }\n",
              "</style>\n",
              "<table border=\"1\" class=\"dataframe\">\n",
              "  <thead>\n",
              "    <tr style=\"text-align: right;\">\n",
              "      <th></th>\n",
              "      <th>StudentID</th>\n",
              "      <th>Age</th>\n",
              "      <th>StudyTimeWeekly</th>\n",
              "      <th>Absences</th>\n",
              "      <th>ParentalSupport</th>\n",
              "    </tr>\n",
              "  </thead>\n",
              "  <tbody>\n",
              "    <tr>\n",
              "      <th>0</th>\n",
              "      <td>5000</td>\n",
              "      <td>16</td>\n",
              "      <td>13.274090</td>\n",
              "      <td>27</td>\n",
              "      <td>1</td>\n",
              "    </tr>\n",
              "    <tr>\n",
              "      <th>1</th>\n",
              "      <td>5001</td>\n",
              "      <td>17</td>\n",
              "      <td>16.926360</td>\n",
              "      <td>6</td>\n",
              "      <td>2</td>\n",
              "    </tr>\n",
              "    <tr>\n",
              "      <th>2</th>\n",
              "      <td>5002</td>\n",
              "      <td>15</td>\n",
              "      <td>4.225258</td>\n",
              "      <td>15</td>\n",
              "      <td>3</td>\n",
              "    </tr>\n",
              "    <tr>\n",
              "      <th>3</th>\n",
              "      <td>5003</td>\n",
              "      <td>16</td>\n",
              "      <td>18.839829</td>\n",
              "      <td>17</td>\n",
              "      <td>3</td>\n",
              "    </tr>\n",
              "    <tr>\n",
              "      <th>4</th>\n",
              "      <td>5004</td>\n",
              "      <td>15</td>\n",
              "      <td>9.075075</td>\n",
              "      <td>6</td>\n",
              "      <td>2</td>\n",
              "    </tr>\n",
              "  </tbody>\n",
              "</table>\n",
              "</div>"
            ],
            "text/plain": [
              "   StudentID  Age  StudyTimeWeekly  Absences  ParentalSupport\n",
              "0       5000   16        13.274090        27                1\n",
              "1       5001   17        16.926360         6                2\n",
              "2       5002   15         4.225258        15                3\n",
              "3       5003   16        18.839829        17                3\n",
              "4       5004   15         9.075075         6                2"
            ]
          },
          "execution_count": 54,
          "metadata": {},
          "output_type": "execute_result"
        }
      ],
      "source": [
        "df = pd.read_csv('Student_List_A2_Submission.csv')\n",
        "df.head()"
      ]
    },
    {
      "cell_type": "markdown",
      "id": "ec735b60-3aae-45ad-9ae3-c8e36e571adb",
      "metadata": {
        "id": "ec735b60-3aae-45ad-9ae3-c8e36e571adb"
      },
      "source": [
        "2. Unlike the previous section in which you have a testing dataset where you know\n",
        "the ‘GradeClass’ and will be able to test for the accuracy, in this part, you don’t\n",
        "have a ‘GradeClass’ and you have to predict it and submit the predictions along\n",
        "with other required submission files."
      ]
    },
    {
      "cell_type": "code",
      "execution_count": null,
      "id": "2969de48-501a-4cb8-b67f-3b9789453189",
      "metadata": {
        "id": "2969de48-501a-4cb8-b67f-3b9789453189",
        "outputId": "bc302439-f62b-4c52-9630-33dc789df1c9"
      },
      "outputs": [
        {
          "data": {
            "text/html": [
              "<div>\n",
              "<style scoped>\n",
              "    .dataframe tbody tr th:only-of-type {\n",
              "        vertical-align: middle;\n",
              "    }\n",
              "\n",
              "    .dataframe tbody tr th {\n",
              "        vertical-align: top;\n",
              "    }\n",
              "\n",
              "    .dataframe thead th {\n",
              "        text-align: right;\n",
              "    }\n",
              "</style>\n",
              "<table border=\"1\" class=\"dataframe\">\n",
              "  <thead>\n",
              "    <tr style=\"text-align: right;\">\n",
              "      <th></th>\n",
              "      <th>StudentID</th>\n",
              "      <th>Age</th>\n",
              "      <th>StudyTimeWeekly</th>\n",
              "      <th>Absences</th>\n",
              "      <th>ParentalSupport</th>\n",
              "      <th>GradeClass</th>\n",
              "    </tr>\n",
              "  </thead>\n",
              "  <tbody>\n",
              "    <tr>\n",
              "      <th>0</th>\n",
              "      <td>5000</td>\n",
              "      <td>16</td>\n",
              "      <td>13.274090</td>\n",
              "      <td>27</td>\n",
              "      <td>1</td>\n",
              "      <td>F</td>\n",
              "    </tr>\n",
              "    <tr>\n",
              "      <th>1</th>\n",
              "      <td>5001</td>\n",
              "      <td>17</td>\n",
              "      <td>16.926360</td>\n",
              "      <td>6</td>\n",
              "      <td>2</td>\n",
              "      <td>C</td>\n",
              "    </tr>\n",
              "    <tr>\n",
              "      <th>2</th>\n",
              "      <td>5002</td>\n",
              "      <td>15</td>\n",
              "      <td>4.225258</td>\n",
              "      <td>15</td>\n",
              "      <td>3</td>\n",
              "      <td>F</td>\n",
              "    </tr>\n",
              "    <tr>\n",
              "      <th>3</th>\n",
              "      <td>5003</td>\n",
              "      <td>16</td>\n",
              "      <td>18.839829</td>\n",
              "      <td>17</td>\n",
              "      <td>3</td>\n",
              "      <td>D</td>\n",
              "    </tr>\n",
              "    <tr>\n",
              "      <th>4</th>\n",
              "      <td>5004</td>\n",
              "      <td>15</td>\n",
              "      <td>9.075075</td>\n",
              "      <td>6</td>\n",
              "      <td>2</td>\n",
              "      <td>C</td>\n",
              "    </tr>\n",
              "  </tbody>\n",
              "</table>\n",
              "</div>"
            ],
            "text/plain": [
              "   StudentID  Age  StudyTimeWeekly  Absences  ParentalSupport GradeClass\n",
              "0       5000   16        13.274090        27                1          F\n",
              "1       5001   17        16.926360         6                2          C\n",
              "2       5002   15         4.225258        15                3          F\n",
              "3       5003   16        18.839829        17                3          D\n",
              "4       5004   15         9.075075         6                2          C"
            ]
          },
          "execution_count": 55,
          "metadata": {},
          "output_type": "execute_result"
        }
      ],
      "source": [
        "X = df.drop(columns = 'StudentID', axis = 1)\n",
        "X = sc.fit_transform(X)\n",
        "Y_pred = model.predict(X)\n",
        "df['GradeClass'] = Y_pred\n",
        "df.head()"
      ]
    },
    {
      "cell_type": "code",
      "execution_count": null,
      "id": "8a02aad6-5fe1-4754-a12e-7d6ddff48c2e",
      "metadata": {
        "id": "8a02aad6-5fe1-4754-a12e-7d6ddff48c2e",
        "outputId": "f9788b9f-7a3e-4c4e-a0cb-06ce85970e74"
      },
      "outputs": [
        {
          "data": {
            "text/html": [
              "<div>\n",
              "<style scoped>\n",
              "    .dataframe tbody tr th:only-of-type {\n",
              "        vertical-align: middle;\n",
              "    }\n",
              "\n",
              "    .dataframe tbody tr th {\n",
              "        vertical-align: top;\n",
              "    }\n",
              "\n",
              "    .dataframe thead th {\n",
              "        text-align: right;\n",
              "    }\n",
              "</style>\n",
              "<table border=\"1\" class=\"dataframe\">\n",
              "  <thead>\n",
              "    <tr style=\"text-align: right;\">\n",
              "      <th></th>\n",
              "      <th>StudentID</th>\n",
              "      <th>GradeClass</th>\n",
              "    </tr>\n",
              "  </thead>\n",
              "  <tbody>\n",
              "    <tr>\n",
              "      <th>0</th>\n",
              "      <td>5000</td>\n",
              "      <td>F</td>\n",
              "    </tr>\n",
              "    <tr>\n",
              "      <th>1</th>\n",
              "      <td>5001</td>\n",
              "      <td>C</td>\n",
              "    </tr>\n",
              "    <tr>\n",
              "      <th>2</th>\n",
              "      <td>5002</td>\n",
              "      <td>F</td>\n",
              "    </tr>\n",
              "    <tr>\n",
              "      <th>3</th>\n",
              "      <td>5003</td>\n",
              "      <td>D</td>\n",
              "    </tr>\n",
              "    <tr>\n",
              "      <th>4</th>\n",
              "      <td>5004</td>\n",
              "      <td>C</td>\n",
              "    </tr>\n",
              "  </tbody>\n",
              "</table>\n",
              "</div>"
            ],
            "text/plain": [
              "   StudentID GradeClass\n",
              "0       5000          F\n",
              "1       5001          C\n",
              "2       5002          F\n",
              "3       5003          D\n",
              "4       5004          C"
            ]
          },
          "execution_count": 56,
          "metadata": {},
          "output_type": "execute_result"
        }
      ],
      "source": [
        "df = df[['StudentID','GradeClass']]\n",
        "df.head()"
      ]
    },
    {
      "cell_type": "code",
      "execution_count": null,
      "id": "79ddafe9-5491-44a3-a1b1-f4c59eab383c",
      "metadata": {
        "id": "79ddafe9-5491-44a3-a1b1-f4c59eab383c",
        "outputId": "c08dcd90-e2ea-4673-80c1-caff39a61a9c"
      },
      "outputs": [
        {
          "data": {
            "text/plain": [
              "(161, 2)"
            ]
          },
          "execution_count": 57,
          "metadata": {},
          "output_type": "execute_result"
        }
      ],
      "source": [
        "df.shape"
      ]
    },
    {
      "cell_type": "code",
      "execution_count": null,
      "id": "173f07e5-b46c-480b-bd83-eada601d9c32",
      "metadata": {
        "id": "173f07e5-b46c-480b-bd83-eada601d9c32"
      },
      "outputs": [],
      "source": [
        "df.to_csv('predicted_value_submission.csv', index = False)"
      ]
    },
    {
      "cell_type": "markdown",
      "id": "9f95a130-f42c-4395-93d0-9f58f64389c8",
      "metadata": {
        "id": "9f95a130-f42c-4395-93d0-9f58f64389c8"
      },
      "source": [
        "## B1. Selection of a Dataset with missing data and Clustering (4 marks)"
      ]
    },
    {
      "cell_type": "markdown",
      "id": "780cf08c-3392-47e4-a2e1-ec42113be95e",
      "metadata": {
        "id": "780cf08c-3392-47e4-a2e1-ec42113be95e"
      },
      "source": [
        "We have demonstrated a k-means clustering algorithm in week 7. Your task in this part\n",
        "is to find an interesting dataset and apply k-means clustering on it using Python. For\n",
        "instance, Kaggle is a private company which runs data science competitions and\n",
        "provides a list of their publicly available datasets: https://www.kaggle.com/datasets"
      ]
    },
    {
      "cell_type": "markdown",
      "id": "4e7c93f1-7190-4353-9504-cca4d321fcc1",
      "metadata": {
        "id": "4e7c93f1-7190-4353-9504-cca4d321fcc1"
      },
      "source": [
        "1. Select a suitable dataset that contains some missing data and at least two\n",
        "numerical features. Please note you cannot use the same data set used in the\n",
        "applied sessions/lectures in this unit. Please include a link to your dataset in\n",
        "your report. You may wish to:\n",
        "● provide the direct link to the public dataset from the internet, or\n",
        "● place the data file in your Monash student - google drive and provide its\n",
        "link in the submission."
      ]
    },
    {
      "cell_type": "markdown",
      "id": "fad746a6-31fd-48c9-86ec-2d4918c63bc4",
      "metadata": {
        "id": "fad746a6-31fd-48c9-86ec-2d4918c63bc4"
      },
      "source": [
        "Link to dataset: https://openmv.net/info/travel-times"
      ]
    },
    {
      "cell_type": "code",
      "execution_count": null,
      "id": "c6db3033-02f3-4b30-bce0-5603564578d2",
      "metadata": {
        "id": "c6db3033-02f3-4b30-bce0-5603564578d2"
      },
      "outputs": [],
      "source": [
        "import pandas as pd"
      ]
    },
    {
      "cell_type": "code",
      "execution_count": null,
      "id": "d4e74778-af7f-4c7d-a30d-3ccd014585ab",
      "metadata": {
        "id": "d4e74778-af7f-4c7d-a30d-3ccd014585ab",
        "outputId": "ad63739e-0227-4366-ac9d-5aecaec303e9"
      },
      "outputs": [
        {
          "data": {
            "text/html": [
              "<div>\n",
              "<style scoped>\n",
              "    .dataframe tbody tr th:only-of-type {\n",
              "        vertical-align: middle;\n",
              "    }\n",
              "\n",
              "    .dataframe tbody tr th {\n",
              "        vertical-align: top;\n",
              "    }\n",
              "\n",
              "    .dataframe thead th {\n",
              "        text-align: right;\n",
              "    }\n",
              "</style>\n",
              "<table border=\"1\" class=\"dataframe\">\n",
              "  <thead>\n",
              "    <tr style=\"text-align: right;\">\n",
              "      <th></th>\n",
              "      <th>Date</th>\n",
              "      <th>StartTime</th>\n",
              "      <th>DayOfWeek</th>\n",
              "      <th>GoingTo</th>\n",
              "      <th>Distance</th>\n",
              "      <th>MaxSpeed</th>\n",
              "      <th>AvgSpeed</th>\n",
              "      <th>AvgMovingSpeed</th>\n",
              "      <th>FuelEconomy</th>\n",
              "      <th>TotalTime</th>\n",
              "      <th>MovingTime</th>\n",
              "      <th>Take407All</th>\n",
              "      <th>Comments</th>\n",
              "    </tr>\n",
              "  </thead>\n",
              "  <tbody>\n",
              "    <tr>\n",
              "      <th>0</th>\n",
              "      <td>1/6/2012</td>\n",
              "      <td>16:37</td>\n",
              "      <td>Friday</td>\n",
              "      <td>Home</td>\n",
              "      <td>51.29</td>\n",
              "      <td>127.4</td>\n",
              "      <td>78.3</td>\n",
              "      <td>84.8</td>\n",
              "      <td>NaN</td>\n",
              "      <td>39.3</td>\n",
              "      <td>36.3</td>\n",
              "      <td>No</td>\n",
              "      <td>NaN</td>\n",
              "    </tr>\n",
              "    <tr>\n",
              "      <th>1</th>\n",
              "      <td>1/6/2012</td>\n",
              "      <td>08:20</td>\n",
              "      <td>Friday</td>\n",
              "      <td>GSK</td>\n",
              "      <td>51.63</td>\n",
              "      <td>130.3</td>\n",
              "      <td>81.8</td>\n",
              "      <td>88.9</td>\n",
              "      <td>NaN</td>\n",
              "      <td>37.9</td>\n",
              "      <td>34.9</td>\n",
              "      <td>No</td>\n",
              "      <td>NaN</td>\n",
              "    </tr>\n",
              "    <tr>\n",
              "      <th>2</th>\n",
              "      <td>1/4/2012</td>\n",
              "      <td>16:17</td>\n",
              "      <td>Wednesday</td>\n",
              "      <td>Home</td>\n",
              "      <td>51.27</td>\n",
              "      <td>127.4</td>\n",
              "      <td>82.0</td>\n",
              "      <td>85.8</td>\n",
              "      <td>NaN</td>\n",
              "      <td>37.5</td>\n",
              "      <td>35.9</td>\n",
              "      <td>No</td>\n",
              "      <td>NaN</td>\n",
              "    </tr>\n",
              "    <tr>\n",
              "      <th>3</th>\n",
              "      <td>1/4/2012</td>\n",
              "      <td>07:53</td>\n",
              "      <td>Wednesday</td>\n",
              "      <td>GSK</td>\n",
              "      <td>49.17</td>\n",
              "      <td>132.3</td>\n",
              "      <td>74.2</td>\n",
              "      <td>82.9</td>\n",
              "      <td>NaN</td>\n",
              "      <td>39.8</td>\n",
              "      <td>35.6</td>\n",
              "      <td>No</td>\n",
              "      <td>NaN</td>\n",
              "    </tr>\n",
              "    <tr>\n",
              "      <th>4</th>\n",
              "      <td>1/3/2012</td>\n",
              "      <td>18:57</td>\n",
              "      <td>Tuesday</td>\n",
              "      <td>Home</td>\n",
              "      <td>51.15</td>\n",
              "      <td>136.2</td>\n",
              "      <td>83.4</td>\n",
              "      <td>88.1</td>\n",
              "      <td>NaN</td>\n",
              "      <td>36.8</td>\n",
              "      <td>34.8</td>\n",
              "      <td>No</td>\n",
              "      <td>NaN</td>\n",
              "    </tr>\n",
              "  </tbody>\n",
              "</table>\n",
              "</div>"
            ],
            "text/plain": [
              "       Date StartTime  DayOfWeek GoingTo  Distance  MaxSpeed  AvgSpeed  \\\n",
              "0  1/6/2012     16:37     Friday    Home     51.29     127.4      78.3   \n",
              "1  1/6/2012     08:20     Friday     GSK     51.63     130.3      81.8   \n",
              "2  1/4/2012     16:17  Wednesday    Home     51.27     127.4      82.0   \n",
              "3  1/4/2012     07:53  Wednesday     GSK     49.17     132.3      74.2   \n",
              "4  1/3/2012     18:57    Tuesday    Home     51.15     136.2      83.4   \n",
              "\n",
              "   AvgMovingSpeed FuelEconomy  TotalTime  MovingTime Take407All Comments  \n",
              "0            84.8         NaN       39.3        36.3         No      NaN  \n",
              "1            88.9         NaN       37.9        34.9         No      NaN  \n",
              "2            85.8         NaN       37.5        35.9         No      NaN  \n",
              "3            82.9         NaN       39.8        35.6         No      NaN  \n",
              "4            88.1         NaN       36.8        34.8         No      NaN  "
            ]
          },
          "execution_count": 43,
          "metadata": {},
          "output_type": "execute_result"
        }
      ],
      "source": [
        "df = pd.read_csv('travel-times.csv')\n",
        "df.head()"
      ]
    },
    {
      "cell_type": "code",
      "execution_count": null,
      "id": "77d7ee38-53f0-4e0e-b2d6-84685b277897",
      "metadata": {
        "id": "77d7ee38-53f0-4e0e-b2d6-84685b277897",
        "outputId": "1066ad70-a40d-4b2a-a12c-22def3c18e0c"
      },
      "outputs": [
        {
          "data": {
            "text/html": [
              "<div>\n",
              "<style scoped>\n",
              "    .dataframe tbody tr th:only-of-type {\n",
              "        vertical-align: middle;\n",
              "    }\n",
              "\n",
              "    .dataframe tbody tr th {\n",
              "        vertical-align: top;\n",
              "    }\n",
              "\n",
              "    .dataframe thead th {\n",
              "        text-align: right;\n",
              "    }\n",
              "</style>\n",
              "<table border=\"1\" class=\"dataframe\">\n",
              "  <thead>\n",
              "    <tr style=\"text-align: right;\">\n",
              "      <th></th>\n",
              "      <th>Date</th>\n",
              "      <th>StartTime</th>\n",
              "      <th>DayOfWeek</th>\n",
              "      <th>GoingTo</th>\n",
              "      <th>Distance</th>\n",
              "      <th>MaxSpeed</th>\n",
              "      <th>AvgSpeed</th>\n",
              "      <th>AvgMovingSpeed</th>\n",
              "      <th>FuelEconomy</th>\n",
              "      <th>TotalTime</th>\n",
              "      <th>MovingTime</th>\n",
              "      <th>Take407All</th>\n",
              "    </tr>\n",
              "  </thead>\n",
              "  <tbody>\n",
              "    <tr>\n",
              "      <th>0</th>\n",
              "      <td>1/6/2012</td>\n",
              "      <td>16:37</td>\n",
              "      <td>Friday</td>\n",
              "      <td>Home</td>\n",
              "      <td>51.29</td>\n",
              "      <td>127.4</td>\n",
              "      <td>78.3</td>\n",
              "      <td>84.8</td>\n",
              "      <td>NaN</td>\n",
              "      <td>39.3</td>\n",
              "      <td>36.3</td>\n",
              "      <td>No</td>\n",
              "    </tr>\n",
              "    <tr>\n",
              "      <th>1</th>\n",
              "      <td>1/6/2012</td>\n",
              "      <td>08:20</td>\n",
              "      <td>Friday</td>\n",
              "      <td>GSK</td>\n",
              "      <td>51.63</td>\n",
              "      <td>130.3</td>\n",
              "      <td>81.8</td>\n",
              "      <td>88.9</td>\n",
              "      <td>NaN</td>\n",
              "      <td>37.9</td>\n",
              "      <td>34.9</td>\n",
              "      <td>No</td>\n",
              "    </tr>\n",
              "    <tr>\n",
              "      <th>2</th>\n",
              "      <td>1/4/2012</td>\n",
              "      <td>16:17</td>\n",
              "      <td>Wednesday</td>\n",
              "      <td>Home</td>\n",
              "      <td>51.27</td>\n",
              "      <td>127.4</td>\n",
              "      <td>82.0</td>\n",
              "      <td>85.8</td>\n",
              "      <td>NaN</td>\n",
              "      <td>37.5</td>\n",
              "      <td>35.9</td>\n",
              "      <td>No</td>\n",
              "    </tr>\n",
              "    <tr>\n",
              "      <th>3</th>\n",
              "      <td>1/4/2012</td>\n",
              "      <td>07:53</td>\n",
              "      <td>Wednesday</td>\n",
              "      <td>GSK</td>\n",
              "      <td>49.17</td>\n",
              "      <td>132.3</td>\n",
              "      <td>74.2</td>\n",
              "      <td>82.9</td>\n",
              "      <td>NaN</td>\n",
              "      <td>39.8</td>\n",
              "      <td>35.6</td>\n",
              "      <td>No</td>\n",
              "    </tr>\n",
              "    <tr>\n",
              "      <th>4</th>\n",
              "      <td>1/3/2012</td>\n",
              "      <td>18:57</td>\n",
              "      <td>Tuesday</td>\n",
              "      <td>Home</td>\n",
              "      <td>51.15</td>\n",
              "      <td>136.2</td>\n",
              "      <td>83.4</td>\n",
              "      <td>88.1</td>\n",
              "      <td>NaN</td>\n",
              "      <td>36.8</td>\n",
              "      <td>34.8</td>\n",
              "      <td>No</td>\n",
              "    </tr>\n",
              "  </tbody>\n",
              "</table>\n",
              "</div>"
            ],
            "text/plain": [
              "       Date StartTime  DayOfWeek GoingTo  Distance  MaxSpeed  AvgSpeed  \\\n",
              "0  1/6/2012     16:37     Friday    Home     51.29     127.4      78.3   \n",
              "1  1/6/2012     08:20     Friday     GSK     51.63     130.3      81.8   \n",
              "2  1/4/2012     16:17  Wednesday    Home     51.27     127.4      82.0   \n",
              "3  1/4/2012     07:53  Wednesday     GSK     49.17     132.3      74.2   \n",
              "4  1/3/2012     18:57    Tuesday    Home     51.15     136.2      83.4   \n",
              "\n",
              "   AvgMovingSpeed FuelEconomy  TotalTime  MovingTime Take407All  \n",
              "0            84.8         NaN       39.3        36.3         No  \n",
              "1            88.9         NaN       37.9        34.9         No  \n",
              "2            85.8         NaN       37.5        35.9         No  \n",
              "3            82.9         NaN       39.8        35.6         No  \n",
              "4            88.1         NaN       36.8        34.8         No  "
            ]
          },
          "execution_count": 44,
          "metadata": {},
          "output_type": "execute_result"
        }
      ],
      "source": [
        "df = df.drop(columns = 'Comments', axis = 1) # drop unimportant comment column\n",
        "df.head()"
      ]
    },
    {
      "cell_type": "code",
      "execution_count": null,
      "id": "60e53ed9-1132-4890-bd63-95c29e730172",
      "metadata": {
        "id": "60e53ed9-1132-4890-bd63-95c29e730172",
        "outputId": "bfc3b747-80d4-46bd-9b69-fc248ba1aef0"
      },
      "outputs": [
        {
          "data": {
            "text/plain": [
              "(205, 12)"
            ]
          },
          "execution_count": 45,
          "metadata": {},
          "output_type": "execute_result"
        }
      ],
      "source": [
        "df.shape"
      ]
    },
    {
      "cell_type": "markdown",
      "id": "72226f28-d899-4637-9623-1a251bbf2105",
      "metadata": {
        "id": "72226f28-d899-4637-9623-1a251bbf2105"
      },
      "source": [
        "2. Perform wrangling on the dataset to handle/treat the missing data and explain\n",
        "your procedure"
      ]
    },
    {
      "cell_type": "code",
      "execution_count": null,
      "id": "403d69c8-f2cf-4bfc-aa68-39ccbd83979d",
      "metadata": {
        "id": "403d69c8-f2cf-4bfc-aa68-39ccbd83979d",
        "outputId": "de098419-6b9c-44dd-9cb5-1c04b0a534e0"
      },
      "outputs": [
        {
          "data": {
            "text/plain": [
              "Date               0\n",
              "StartTime          0\n",
              "DayOfWeek          0\n",
              "GoingTo            0\n",
              "Distance           0\n",
              "MaxSpeed           0\n",
              "AvgSpeed           0\n",
              "AvgMovingSpeed     0\n",
              "FuelEconomy       17\n",
              "TotalTime          0\n",
              "MovingTime         0\n",
              "Take407All         0\n",
              "dtype: int64"
            ]
          },
          "execution_count": 46,
          "metadata": {},
          "output_type": "execute_result"
        }
      ],
      "source": [
        "missing_values_per_column = df.isnull().sum()\n",
        "missing_values_per_column"
      ]
    },
    {
      "cell_type": "markdown",
      "id": "f72a1fa8-e0a5-4bc8-b5a4-d335440d42f7",
      "metadata": {
        "id": "f72a1fa8-e0a5-4bc8-b5a4-d335440d42f7"
      },
      "source": [
        "- The first step is to find the total number of empty values in each column\n",
        "- Looks like only FuelEconomy column has empty values"
      ]
    },
    {
      "cell_type": "code",
      "execution_count": null,
      "id": "941861c4-542c-4ade-be98-93a7727aa5e4",
      "metadata": {
        "id": "941861c4-542c-4ade-be98-93a7727aa5e4",
        "outputId": "d1d04e4a-f521-4967-aedc-f159d70c9aab"
      },
      "outputs": [
        {
          "data": {
            "text/plain": [
              "(188, 12)"
            ]
          },
          "execution_count": 47,
          "metadata": {},
          "output_type": "execute_result"
        }
      ],
      "source": [
        "df = df.dropna()  # Removes rows with any missing values\n",
        "df.shape"
      ]
    },
    {
      "cell_type": "markdown",
      "id": "645879d3-cb6b-4c78-ad16-b94df9011b9c",
      "metadata": {
        "id": "645879d3-cb6b-4c78-ad16-b94df9011b9c"
      },
      "source": [
        "- Since there are only 17 rows with missing values, I decided to delete the rows\n",
        "- Since there is only one column with empty values, I use the dropna() function to remove all rows with missing values"
      ]
    },
    {
      "cell_type": "markdown",
      "id": "39cdd6c1-492b-4df0-a5c2-bd1515bf324b",
      "metadata": {
        "id": "39cdd6c1-492b-4df0-a5c2-bd1515bf324b"
      },
      "source": [
        "3. Perform k-means clustering, choosing two numerical features in your dataset\n",
        "and create k clusters using Python (k>=2)"
      ]
    },
    {
      "cell_type": "code",
      "execution_count": null,
      "id": "54e97f3e-8e40-4d9e-adac-c00950dbd5a1",
      "metadata": {
        "id": "54e97f3e-8e40-4d9e-adac-c00950dbd5a1"
      },
      "outputs": [],
      "source": [
        "import matplotlib.pyplot as plt\n",
        "%matplotlib inline\n",
        "from sklearn.cluster import KMeans"
      ]
    },
    {
      "cell_type": "code",
      "execution_count": null,
      "id": "86153df6-095f-41b7-aaf1-501c5f6e7121",
      "metadata": {
        "id": "86153df6-095f-41b7-aaf1-501c5f6e7121",
        "outputId": "6be414d5-30e9-428d-d219-4a92a72b621b"
      },
      "outputs": [
        {
          "data": {
            "text/html": [
              "<div>\n",
              "<style scoped>\n",
              "    .dataframe tbody tr th:only-of-type {\n",
              "        vertical-align: middle;\n",
              "    }\n",
              "\n",
              "    .dataframe tbody tr th {\n",
              "        vertical-align: top;\n",
              "    }\n",
              "\n",
              "    .dataframe thead th {\n",
              "        text-align: right;\n",
              "    }\n",
              "</style>\n",
              "<table border=\"1\" class=\"dataframe\">\n",
              "  <thead>\n",
              "    <tr style=\"text-align: right;\">\n",
              "      <th></th>\n",
              "      <th>Distance</th>\n",
              "      <th>AvgMovingSpeed</th>\n",
              "    </tr>\n",
              "  </thead>\n",
              "  <tbody>\n",
              "    <tr>\n",
              "      <th>6</th>\n",
              "      <td>51.37</td>\n",
              "      <td>87.3</td>\n",
              "    </tr>\n",
              "    <tr>\n",
              "      <th>7</th>\n",
              "      <td>49.01</td>\n",
              "      <td>85.9</td>\n",
              "    </tr>\n",
              "    <tr>\n",
              "      <th>8</th>\n",
              "      <td>52.91</td>\n",
              "      <td>88.3</td>\n",
              "    </tr>\n",
              "    <tr>\n",
              "      <th>9</th>\n",
              "      <td>51.17</td>\n",
              "      <td>78.1</td>\n",
              "    </tr>\n",
              "    <tr>\n",
              "      <th>10</th>\n",
              "      <td>49.15</td>\n",
              "      <td>81.4</td>\n",
              "    </tr>\n",
              "  </tbody>\n",
              "</table>\n",
              "</div>"
            ],
            "text/plain": [
              "    Distance  AvgMovingSpeed\n",
              "6      51.37            87.3\n",
              "7      49.01            85.9\n",
              "8      52.91            88.3\n",
              "9      51.17            78.1\n",
              "10     49.15            81.4"
            ]
          },
          "execution_count": 49,
          "metadata": {},
          "output_type": "execute_result"
        }
      ],
      "source": [
        "df = df[['Distance','AvgMovingSpeed']]\n",
        "df.head()"
      ]
    },
    {
      "cell_type": "markdown",
      "id": "a99db092-05a9-4313-b759-07eece920184",
      "metadata": {
        "id": "a99db092-05a9-4313-b759-07eece920184"
      },
      "source": [
        "4. Visualise the data as well as the results of the k-means clustering, and describe\n",
        "your findings about the identified clusters."
      ]
    },
    {
      "cell_type": "code",
      "execution_count": null,
      "id": "8edd0ff4-0d34-4f28-802b-bc034d225369",
      "metadata": {
        "id": "8edd0ff4-0d34-4f28-802b-bc034d225369",
        "outputId": "46d8e082-9ae9-47c2-91eb-df40f4c36734"
      },
      "outputs": [
        {
          "data": {
            "text/plain": [
              "Text(0, 0.5, 'Average Moving Speed')"
            ]
          },
          "execution_count": 50,
          "metadata": {},
          "output_type": "execute_result"
        },
        {
          "data": {
            "image/png": "[encoded data removed]",
            "text/plain": [
              "<Figure size 640x480 with 1 Axes>"
            ]
          },
          "metadata": {},
          "output_type": "display_data"
        }
      ],
      "source": [
        "#Visualise the dataset (Distance vs AvgMovingSpeed)\n",
        "plt.scatter(x=df['Distance'],y=df['AvgMovingSpeed'])\n",
        "plt.xlabel('Distance')\n",
        "plt.ylabel('Average Moving Speed')"
      ]
    },
    {
      "cell_type": "code",
      "execution_count": null,
      "id": "6775b3f5-2291-452d-9280-c889a095dd99",
      "metadata": {
        "id": "6775b3f5-2291-452d-9280-c889a095dd99",
        "outputId": "6869e2ff-2008-4ea4-e923-e095de7b58c1"
      },
      "outputs": [
        {
          "name": "stderr",
          "output_type": "stream",
          "text": [
            "C:\\Users\\Honor\\anaconda3\\Lib\\site-packages\\sklearn\\cluster\\_kmeans.py:1446: UserWarning: KMeans is known to have a memory leak on Windows with MKL, when there are less chunks than available threads. You can avoid it by setting the environment variable OMP_NUM_THREADS=1.\n",
            "  warnings.warn(\n"
          ]
        }
      ],
      "source": [
        "# set  to cluster the dataset into two subgroups\n",
        "kmeans = KMeans(n_clusters=2).fit(\n",
        "df[['Distance','AvgMovingSpeed']])"
      ]
    },
    {
      "cell_type": "code",
      "execution_count": null,
      "id": "37421a44-27d9-4ddc-aef0-b16b666fdbe0",
      "metadata": {
        "id": "37421a44-27d9-4ddc-aef0-b16b666fdbe0",
        "outputId": "53af3c38-7fc0-405a-dc6c-4c29ee8d99e9"
      },
      "outputs": [
        {
          "data": {
            "text/plain": [
              "array([0, 0, 0, 0, 0, 0, 0, 0, 0, 0, 1, 0, 0, 0, 0, 0, 0, 0, 0, 1, 0, 0,\n",
              "       0, 0, 0, 0, 0, 0, 0, 0, 0, 0, 0, 0, 0, 0, 0, 0, 0, 0, 0, 0, 0, 0,\n",
              "       0, 0, 0, 0, 1, 0, 0, 0, 1, 0, 0, 0, 0, 0, 0, 0, 1, 1, 1, 0, 0, 0,\n",
              "       0, 1, 0, 0, 0, 0, 0, 0, 0, 1, 1, 0, 0, 0, 1, 1, 1, 0, 1, 0, 1, 0,\n",
              "       1, 0, 1, 0, 0, 0, 1, 0, 1, 1, 1, 0, 1, 1, 0, 0, 0, 0, 0, 0, 1, 0,\n",
              "       1, 0, 0, 0, 0, 0, 0, 0, 0, 1, 1, 0, 1, 0, 0, 0, 0, 0, 0, 0, 0, 0,\n",
              "       0, 0, 1, 0, 0, 0, 0, 0, 0, 0, 0, 0, 0, 0, 0, 0, 0, 0, 0, 0, 0, 0,\n",
              "       0, 0, 0, 0, 0, 0, 0, 0, 0, 0, 0, 0, 0, 0, 0, 1, 0, 0, 0, 0, 0, 0,\n",
              "       0, 0, 0, 0, 1, 1, 0, 0, 1, 1, 0, 1])"
            ]
          },
          "execution_count": 52,
          "metadata": {},
          "output_type": "execute_result"
        }
      ],
      "source": [
        "# Look at the outputs: Two cluster centers\n",
        "kmeans.cluster_centers_\n",
        "# Look at the outputs: Cluster labels\n",
        "kmeans.labels_"
      ]
    },
    {
      "cell_type": "code",
      "execution_count": null,
      "id": "7b71b5b4-a41f-41e6-88cd-7370597fd424",
      "metadata": {
        "id": "7b71b5b4-a41f-41e6-88cd-7370597fd424",
        "outputId": "8e697178-26e2-4d4d-915f-5ab75601bbdd"
      },
      "outputs": [
        {
          "data": {
            "image/png": "[encoded data removed]",
            "text/plain": [
              "<Figure size 640x480 with 1 Axes>"
            ]
          },
          "metadata": {},
          "output_type": "display_data"
        }
      ],
      "source": [
        "# Visualise the output labels\n",
        "plt.scatter(\n",
        "x=df['Distance'],\n",
        "y=df['AvgMovingSpeed'],\n",
        "c=kmeans.labels_)\n",
        "# Visualise the cluster centers (black stars)\n",
        "plt.plot(\n",
        "kmeans.cluster_centers_[:,0],\n",
        "kmeans.cluster_centers_[:,1],\n",
        "'k*',\n",
        "markersize=20\n",
        ")\n",
        "plt.xlabel('Distance')\n",
        "plt.ylabel('Average Moving Speed')\n",
        "plt.show()"
      ]
    },
    {
      "cell_type": "markdown",
      "id": "6b90f0ab-7e77-491f-b25f-42db258d1ce5",
      "metadata": {
        "id": "6b90f0ab-7e77-491f-b25f-42db258d1ce5"
      },
      "source": [
        "- There are two clusters formed by k-means clustering, visualized by the two distinct color groups: one in yellow and the other in purple.\n",
        "- One group (purple) is more concentrated towards lower speeds and shorter distances.\n",
        "- People of this group might be those who travel inside their own town roads which has more twist and turns and traffic lights\n",
        "- This causes them to have lower average moving speeds and shorter distances travelled\n",
        "- The other group (yellow) is more focused on higher speeds and slightly higher distances.\n",
        "- These people might be those who travel in highways which normally has higher speed limits, less traffic lights and people travel further in distance"
      ]
    }
  ],
  "metadata": {
    "colab": {
      "provenance": []
    },
    "kernelspec": {
      "display_name": "Python 3 (ipykernel)",
      "language": "python",
      "name": "python3"
    },
    "language_info": {
      "codemirror_mode": {
        "name": "ipython",
        "version": 3
      },
      "file_extension": ".py",
      "mimetype": "text/x-python",
      "name": "python",
      "nbconvert_exporter": "python",
      "pygments_lexer": "ipython3",
      "version": "3.12.4"
    }
  },
  "nbformat": 4,
  "nbformat_minor": 5
}
